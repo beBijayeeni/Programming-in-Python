{
 "cells": [
  {
   "cell_type": "code",
   "execution_count": 1,
   "id": "74ae3c70-a55c-48f1-8acf-b4c3b859cb6d",
   "metadata": {},
   "outputs": [
    {
     "name": "stdout",
     "output_type": "stream",
     "text": [
      "[1 2 3 4 5]\n"
     ]
    }
   ],
   "source": [
    "import numpy as np\n",
    "arr = np.array([1,2,3,4,5])\n",
    "print(arr)"
   ]
  },
  {
   "cell_type": "code",
   "execution_count": 3,
   "id": "cbc3b0d7-065c-49ec-a044-850e68e98352",
   "metadata": {},
   "outputs": [
    {
     "name": "stdout",
     "output_type": "stream",
     "text": [
      "7\n"
     ]
    }
   ],
   "source": [
    "print(arr[2]+arr[3])"
   ]
  },
  {
   "cell_type": "code",
   "execution_count": 39,
   "id": "a09b66f0-7c24-4940-a272-c4a2ce230c18",
   "metadata": {},
   "outputs": [
    {
     "name": "stdout",
     "output_type": "stream",
     "text": [
      "[4 2 5 3 1]\n"
     ]
    }
   ],
   "source": [
    "from numpy import random\n",
    "\n",
    "arr = np.array([1, 2, 3, 4, 5])\n",
    "\n",
    "print(random.permutation(arr))"
   ]
  },
  {
   "cell_type": "code",
   "execution_count": 40,
   "id": "9cc419ef-b22e-455e-a395-a8d777c41cff",
   "metadata": {},
   "outputs": [
    {
     "name": "stdout",
     "output_type": "stream",
     "text": [
      "[2 5 4 1 3]\n"
     ]
    }
   ],
   "source": [
    "random.shuffle(arr)\n",
    "print(arr)"
   ]
  },
  {
   "cell_type": "code",
   "execution_count": 30,
   "id": "2491d167-41ff-4851-9ea9-b6a3a9f8ce47",
   "metadata": {},
   "outputs": [
    {
     "name": "stdout",
     "output_type": "stream",
     "text": [
      "[[0.11600735 0.86425708 0.70161458 0.88637396 0.63988696]\n",
      " [0.79324564 0.09024425 0.44912702 0.68505379 0.2995546 ]\n",
      " [0.93588486 0.84108152 0.73717308 0.24665733 0.16523988]]\n"
     ]
    }
   ],
   "source": [
    "x = random.rand(3,5)\n",
    "print(x)"
   ]
  },
  {
   "cell_type": "code",
   "execution_count": 43,
   "id": "2d8127a7-49f2-48f3-b2a7-081780577bd6",
   "metadata": {},
   "outputs": [],
   "source": [
    "#Generate a random normal distribution of size 3x2  with mean 1 and standard deviation = 2\n"
   ]
  },
  {
   "cell_type": "code",
   "execution_count": 31,
   "id": "32bcae80-d472-49fb-8152-4a0ae3004317",
   "metadata": {},
   "outputs": [
    {
     "name": "stdout",
     "output_type": "stream",
     "text": [
      "[[ 2 61 43 36 37]\n",
      " [97 11 79 32 35]\n",
      " [56 54 72 81  0]]\n"
     ]
    }
   ],
   "source": [
    "x = random.randint(100, size = (3,5))\n",
    "print(x)"
   ]
  },
  {
   "cell_type": "code",
   "execution_count": 32,
   "id": "d669878a-00f9-4ad0-9ec1-6aef4ac34c50",
   "metadata": {},
   "outputs": [
    {
     "name": "stdout",
     "output_type": "stream",
     "text": [
      "[[23 12 11 25 27]\n",
      " [13 24 24 24 26]]\n"
     ]
    }
   ],
   "source": [
    "y = random.randint(10,30, size = (2,5))\n",
    "print(y)"
   ]
  },
  {
   "cell_type": "code",
   "execution_count": 35,
   "id": "bc047ff5-ef54-46fa-ba17-7494eaaf8975",
   "metadata": {},
   "outputs": [
    {
     "name": "stdout",
     "output_type": "stream",
     "text": [
      "[[7 9 9 3 3]\n",
      " [3 7 9 5 5]\n",
      " [3 5 5 9 9]]\n"
     ]
    }
   ],
   "source": [
    "x = random.choice([3,5,7,9], size = (3,5))\n",
    "print(x)"
   ]
  },
  {
   "cell_type": "code",
   "execution_count": 36,
   "id": "5694160b-3f66-488c-a008-344f44ac2c21",
   "metadata": {},
   "outputs": [
    {
     "name": "stdout",
     "output_type": "stream",
     "text": [
      "[5 7 7 7 7 7 5 3 3 3 3 7 5 7 7 7 7 5 3 3 7 7 7 3 7 7 5 7 7 3 7 7 7 7 5 7 7\n",
      " 7 7 7 5 7 3 5 5 5 5 7 7 3 7 7 5 5 7 3 7 5 5 5 7 7 7 7 7 7 7 3 7 7 3 7 7 7\n",
      " 7 7 3 7 5 3 7 3 5 3 7 5 5 5 5 5 5 5 7 7 7 3 7 7 7 7]\n"
     ]
    }
   ],
   "source": [
    "x = random.choice([3,5,7,9], p=[0.1,0.3,0.6,0], size = (100))\n",
    "print(x)"
   ]
  },
  {
   "cell_type": "code",
   "execution_count": 37,
   "id": "8c49ac9c-c80b-4cd8-90cf-d1b051005017",
   "metadata": {},
   "outputs": [
    {
     "name": "stdout",
     "output_type": "stream",
     "text": [
      "[[3 5 7 7 5]\n",
      " [3 5 3 3 7]\n",
      " [5 7 7 7 5]]\n"
     ]
    }
   ],
   "source": [
    "x = random.choice([3,5,7,9], p=[0.1,0.3,0.5,0.1], size = (3,5))\n",
    "print(x)"
   ]
  },
  {
   "cell_type": "code",
   "execution_count": 34,
   "id": "9be8060d-fb4b-4e0d-8845-8748822e60cd",
   "metadata": {},
   "outputs": [
    {
     "name": "stdout",
     "output_type": "stream",
     "text": [
      "[[86 36  8  5  4  1]]\n"
     ]
    }
   ],
   "source": [
    "arr = np.array([1,5,36,8,4,86])\n",
    "arr = np.flip(np.sort([arr]))\n",
    "print(arr)"
   ]
  },
  {
   "cell_type": "code",
   "execution_count": 8,
   "id": "1d2ce512-d40f-40ba-b71e-88ed9919f211",
   "metadata": {},
   "outputs": [
    {
     "name": "stdout",
     "output_type": "stream",
     "text": [
      "[[ 0  1  2  3  4]\n",
      " [ 5  6  7  8  9]\n",
      " [10 11 12 13 14]]\n"
     ]
    }
   ],
   "source": [
    "arr = np.arange(15).reshape(3,5)\n",
    "print(arr)"
   ]
  },
  {
   "cell_type": "code",
   "execution_count": 12,
   "id": "ba68b60e-0c75-4aa9-a538-eb907b13da52",
   "metadata": {},
   "outputs": [
    {
     "name": "stdout",
     "output_type": "stream",
     "text": [
      "[ 0.          3.83333333  7.66666667 11.5        15.33333333 19.16666667\n",
      " 23.        ]\n"
     ]
    }
   ],
   "source": [
    "print(np.linspace(0,23,7))"
   ]
  },
  {
   "cell_type": "code",
   "execution_count": 13,
   "id": "67592624-505f-4f6d-b20e-5c7545dd131d",
   "metadata": {},
   "outputs": [
    {
     "name": "stdout",
     "output_type": "stream",
     "text": [
      "[[0 0 0]\n",
      " [0 0 0]]\n"
     ]
    }
   ],
   "source": [
    "zeros_array = np.zeros((2,3),dtype = np.int32)\n",
    "print(zeros_array)"
   ]
  },
  {
   "cell_type": "code",
   "execution_count": 14,
   "id": "8e2b8d17-df62-486b-8848-3e4a21ba5c80",
   "metadata": {},
   "outputs": [
    {
     "name": "stdout",
     "output_type": "stream",
     "text": [
      "[[1 1 1 1]\n",
      " [1 1 1 1]\n",
      " [1 1 1 1]]\n"
     ]
    }
   ],
   "source": [
    "ones_array = np.ones((3,4),dtype = np.int32)\n",
    "print(ones_array)"
   ]
  },
  {
   "cell_type": "code",
   "execution_count": 15,
   "id": "06ac72e1-57cf-4077-948c-35242157dd57",
   "metadata": {},
   "outputs": [
    {
     "name": "stdout",
     "output_type": "stream",
     "text": [
      "[[1 2 3]\n",
      " [4 5 6]]\n"
     ]
    }
   ],
   "source": [
    "arr = np.array([[1,2,3],[4,5,6]])\n",
    "print(arr)"
   ]
  },
  {
   "cell_type": "code",
   "execution_count": 20,
   "id": "44280886-2306-4007-9b9f-444f4231324a",
   "metadata": {},
   "outputs": [
    {
     "name": "stdout",
     "output_type": "stream",
     "text": [
      "The matrix is:\n",
      " [[1 2 3 4 5]\n",
      " [4 5 6 7 8]]\n",
      "The 2nd element is:  2\n",
      "The 5th element is:  5\n"
     ]
    }
   ],
   "source": [
    "arr = np.array([[1,2,3,4,5],[4,5,6,7,8]])\n",
    "print('The matrix is:\\n',arr)\n",
    "print('The 2nd element is: ',arr[0,1])\n",
    "print('The 5th element is: ',arr[0,4])"
   ]
  },
  {
   "cell_type": "code",
   "execution_count": 26,
   "id": "8e28a496-33e4-4037-9c5d-3a10e8fa1b89",
   "metadata": {},
   "outputs": [
    {
     "name": "stdout",
     "output_type": "stream",
     "text": [
      "Matrix 1:\n",
      " [[1 2]\n",
      " [3 4]]\n",
      "Matrix 2:\n",
      " [[4 5]\n",
      " [6 7]]\n",
      "Sum is:\n",
      " [[ 5  7]\n",
      " [ 9 11]]\n",
      "Difference is:\n",
      " [[-3 -3]\n",
      " [-3 -3]]\n",
      "Product is:\n",
      " [[ 4 10]\n",
      " [18 28]]\n",
      "Quotient is:\n",
      " [[0.25       0.4       ]\n",
      " [0.5        0.57142857]]\n"
     ]
    }
   ],
   "source": [
    "x = np.array([[1,2],[3,4]])\n",
    "y = np.array([[4,5],[6,7]])\n",
    "print('Matrix 1:\\n',x)\n",
    "print('Matrix 2:\\n',y)\n",
    "print('Sum is:\\n',np.add(x,y))\n",
    "print('Difference is:\\n',np.subtract(x,y))\n",
    "print('Product is:\\n',np.multiply(x,y))\n",
    "print('Quotient is:\\n',np.divide(x,y))"
   ]
  },
  {
   "cell_type": "code",
   "execution_count": 28,
   "id": "68bf458b-5cb4-4798-b996-02ecbe554de5",
   "metadata": {},
   "outputs": [
    {
     "name": "stdout",
     "output_type": "stream",
     "text": [
      "The original matrix is:\n",
      " [[ 4  2  5]\n",
      " [23 55  7]\n",
      " [45 12 77]]\n",
      "The tranposed matrix is:\n",
      " [[ 4 23 45]\n",
      " [ 2 55 12]\n",
      " [ 5  7 77]]\n"
     ]
    }
   ],
   "source": [
    "matrix1 = np.matrix('[4,2,5;23,55,7;45,12,77]')\n",
    "print('The original matrix is:\\n',matrix1)\n",
    "matrix2 = matrix1.transpose()\n",
    "print('The tranposed matrix is:\\n',matrix2)"
   ]
  },
  {
   "cell_type": "code",
   "execution_count": null,
   "id": "97368215-9f1a-47bd-919b-9b3a76a4fb58",
   "metadata": {},
   "outputs": [],
   "source": []
  }
 ],
 "metadata": {
  "kernelspec": {
   "display_name": "Python 3 (ipykernel)",
   "language": "python",
   "name": "python3"
  },
  "language_info": {
   "codemirror_mode": {
    "name": "ipython",
    "version": 3
   },
   "file_extension": ".py",
   "mimetype": "text/x-python",
   "name": "python",
   "nbconvert_exporter": "python",
   "pygments_lexer": "ipython3",
   "version": "3.12.4"
  }
 },
 "nbformat": 4,
 "nbformat_minor": 5
}
