{
 "cells": [
  {
   "cell_type": "code",
   "execution_count": 1,
   "id": "8463adfa-26fa-4634-9e81-c4049b8bf42a",
   "metadata": {},
   "outputs": [
    {
     "name": "stdout",
     "output_type": "stream",
     "text": [
      "()\n"
     ]
    }
   ],
   "source": [
    "my_tuple=()\n",
    "print(my_tuple)"
   ]
  },
  {
   "cell_type": "code",
   "execution_count": 2,
   "id": "824ba6c2-4a09-4b0a-8aa9-4a80e068a0ed",
   "metadata": {},
   "outputs": [
    {
     "name": "stdout",
     "output_type": "stream",
     "text": [
      "(1, 2, 3, 4)\n"
     ]
    }
   ],
   "source": [
    "my_tuple=(1,2,3,4)\n",
    "print(my_tuple)"
   ]
  },
  {
   "cell_type": "code",
   "execution_count": 3,
   "id": "6161df24-0a9d-460d-a345-1aaa2be022a3",
   "metadata": {},
   "outputs": [
    {
     "name": "stdout",
     "output_type": "stream",
     "text": [
      "(1, 'Hello', 1.3)\n"
     ]
    }
   ],
   "source": [
    "my_tuple=(1,'Hello',1.3)\n",
    "print(my_tuple)"
   ]
  },
  {
   "cell_type": "code",
   "execution_count": 4,
   "id": "bcbd70de-2ca2-42a1-b9b4-0250471ddead",
   "metadata": {},
   "outputs": [
    {
     "name": "stdout",
     "output_type": "stream",
     "text": [
      "(1, 'Hello', 1.3, [8, 4, 6])\n"
     ]
    }
   ],
   "source": [
    "my_tuple=(1,'Hello',1.3,[8,4,6])\n",
    "print(my_tuple)"
   ]
  },
  {
   "cell_type": "code",
   "execution_count": 5,
   "id": "3c001da6-4dc8-4265-8577-89f96d79f513",
   "metadata": {},
   "outputs": [
    {
     "name": "stdout",
     "output_type": "stream",
     "text": [
      "(1, 'Hello', 1.3)\n",
      "1\n",
      "Hello\n",
      "1.3\n"
     ]
    }
   ],
   "source": [
    "my_tuple=(1,'Hello',1.3)\n",
    "print(my_tuple)\n",
    "a,b,c=my_tuple\n",
    "print(a)\n",
    "print(b)\n",
    "print(c)"
   ]
  },
  {
   "cell_type": "code",
   "execution_count": 7,
   "id": "a440f49e-7072-4d76-b0a5-24b959eda4ca",
   "metadata": {},
   "outputs": [
    {
     "name": "stdout",
     "output_type": "stream",
     "text": [
      "(1, 'Hello', 1.3)\n"
     ]
    }
   ],
   "source": [
    "my_tuple=(1,'Hello',1.3)\n",
    "print(my_tuple)\n",
    "del my_tuple"
   ]
  },
  {
   "cell_type": "code",
   "execution_count": 8,
   "id": "560ff1e6-e2f1-4b34-aa8a-b1e57faf4950",
   "metadata": {},
   "outputs": [
    {
     "name": "stdout",
     "output_type": "stream",
     "text": [
      "2  is present\n",
      "3  is present\n",
      "4  is not present\n"
     ]
    }
   ],
   "source": [
    "a=(2,3,4)\n",
    "b=(2,3,6,7,89,78)\n",
    "for x in a:\n",
    "    if x in b:\n",
    "        print(x,\" is present\")\n",
    "    else:\n",
    "        print(x,\" is not present\")"
   ]
  },
  {
   "cell_type": "code",
   "execution_count": 9,
   "id": "203e7378-7a8e-4681-a72e-afd90c1a1de5",
   "metadata": {},
   "outputs": [
    {
     "name": "stdout",
     "output_type": "stream",
     "text": [
      "bijayeeni\n",
      "bikash\n",
      "akash\n",
      "mona\n",
      "aritra\n",
      "mrittika\n",
      "anthony\n"
     ]
    }
   ],
   "source": [
    "for name in ['bijayeeni','bikash','akash','mona','aritra','mrittika','anthony']:\n",
    "    print(name)\n"
   ]
  },
  {
   "cell_type": "code",
   "execution_count": 12,
   "id": "e3d25cbd-e606-44eb-8f8a-ca3face5febf",
   "metadata": {},
   "outputs": [
    {
     "name": "stdout",
     "output_type": "stream",
     "text": [
      "<class 'enumerate'>\n",
      "[(0, 'bread'), (1, 'milk'), (2, 'egg'), (3, 'maggie'), (4, 'kitkat'), (5, 'butter')]\n",
      "[(10, 'bread'), (11, 'milk'), (12, 'egg'), (13, 'maggie'), (14, 'kitkat'), (15, 'butter')]\n"
     ]
    }
   ],
   "source": [
    "grocery=['bread','milk','egg','maggie','kitkat','butter']\n",
    "enumerateGrocery=enumerate(grocery)\n",
    "print(type(enumerateGrocery))\n",
    "print(list(enumerateGrocery))\n",
    "enumerateGrocery=enumerate(grocery,10)\n",
    "print(list(enumerateGrocery))\n"
   ]
  },
  {
   "cell_type": "code",
   "execution_count": 17,
   "id": "53667bcd-af13-4cd0-b79d-7b5be1d7044e",
   "metadata": {},
   "outputs": [
    {
     "name": "stdout",
     "output_type": "stream",
     "text": [
      "G-*-o-*-o-*-d-*- -*-M-*-o-*-r-*-n-*-i-*-n-*-g-*-"
     ]
    }
   ],
   "source": [
    "for x in \"Good Morning\":\n",
    "    print(x,end=\"-*-\")"
   ]
  },
  {
   "cell_type": "code",
   "execution_count": null,
   "id": "82ad4b92-32bc-4316-9fdc-e3376f754a7d",
   "metadata": {},
   "outputs": [],
   "source": []
  }
 ],
 "metadata": {
  "kernelspec": {
   "display_name": "Python 3 (ipykernel)",
   "language": "python",
   "name": "python3"
  },
  "language_info": {
   "codemirror_mode": {
    "name": "ipython",
    "version": 3
   },
   "file_extension": ".py",
   "mimetype": "text/x-python",
   "name": "python",
   "nbconvert_exporter": "python",
   "pygments_lexer": "ipython3",
   "version": "3.12.4"
  }
 },
 "nbformat": 4,
 "nbformat_minor": 5
}
