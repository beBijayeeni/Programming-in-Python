{
 "cells": [
  {
   "cell_type": "code",
   "execution_count": 7,
   "id": "27ba5cd5-3a56-4382-88cd-d0cf49f19ddf",
   "metadata": {},
   "outputs": [
    {
     "name": "stdin",
     "output_type": "stream",
     "text": [
      "enter a number:  7\n"
     ]
    },
    {
     "name": "stdout",
     "output_type": "stream",
     "text": [
      "7  is a positive number\n",
      "Thank You\n"
     ]
    }
   ],
   "source": [
    "x=int(input('enter a number: '))\n",
    "if(x>0):\n",
    "    print(x,' is a positive number')\n",
    "else:\n",
    "    print(x,' is a negative number')\n",
    "print('Thank You')"
   ]
  },
  {
   "cell_type": "code",
   "execution_count": 8,
   "id": "100b1bf8-890e-4432-abc8-467097663db0",
   "metadata": {},
   "outputs": [
    {
     "name": "stdin",
     "output_type": "stream",
     "text": [
      "enter a number: 12\n"
     ]
    },
    {
     "name": "stdout",
     "output_type": "stream",
     "text": [
      "positive number\n"
     ]
    }
   ],
   "source": [
    "num=int(input(\"enter a number:\"))\n",
    "if num>=0:\n",
    "    if num == 0:\n",
    "        print(\"zero\")\n",
    "    else:\n",
    "        print(\"positive number\")\n",
    "else:\n",
    "    print(\"negative number\")"
   ]
  },
  {
   "cell_type": "code",
   "execution_count": 11,
   "id": "aec073b3-c479-4474-8625-f9415299d73c",
   "metadata": {},
   "outputs": [
    {
     "name": "stdin",
     "output_type": "stream",
     "text": [
      "enter a number:  0\n"
     ]
    },
    {
     "name": "stdout",
     "output_type": "stream",
     "text": [
      "Zero\n",
      "Thank You\n"
     ]
    }
   ],
   "source": [
    "x=int(input(\"enter a number: \"))\n",
    "if(x>0):\n",
    "    print(x,\" is a positive number\")\n",
    "elif(x<0):\n",
    "    print(x,\" is a negative number\")\n",
    "else:\n",
    "    print(\"Zero\")\n",
    "print(\"Thank You\")"
   ]
  },
  {
   "cell_type": "code",
   "execution_count": 14,
   "id": "82934dee-9d60-4fc0-9769-69a8d20018f8",
   "metadata": {},
   "outputs": [
    {
     "name": "stdin",
     "output_type": "stream",
     "text": [
      "enter the first number:  12.32\n",
      "enter the second number:  12.22\n",
      "enter the third number:  12.56\n"
     ]
    },
    {
     "name": "stdout",
     "output_type": "stream",
     "text": [
      "The largest number is  12.56\n"
     ]
    }
   ],
   "source": [
    "num1=float(input(\"enter the first number: \"))\n",
    "num2=float(input(\"enter the second number: \"))\n",
    "num3=float(input(\"enter the third number: \"))\n",
    "if(num1>=num2)and(num1>=num3):\n",
    "    largest=num1\n",
    "elif(num2>=num3):\n",
    "    largest=num2\n",
    "else:\n",
    "    largest=num3\n",
    "print(\"The largest number is \",largest)"
   ]
  },
  {
   "cell_type": "code",
   "execution_count": 15,
   "id": "7b359f7b-147e-4444-85d2-8904b32ff7fa",
   "metadata": {},
   "outputs": [
    {
     "name": "stdout",
     "output_type": "stream",
     "text": [
      "range(0, 10)\n",
      "[0, 1, 2, 3, 4, 5, 6, 7, 8, 9]\n",
      "[2, 3, 4, 5, 6, 7]\n",
      "[2, 5, 8, 11, 14, 17]\n"
     ]
    }
   ],
   "source": [
    "print(range(10))\n",
    "print(list(range(10)))\n",
    "print(list(range(2,8)))\n",
    "print(list(range(2,20,3)))"
   ]
  },
  {
   "cell_type": "code",
   "execution_count": 18,
   "id": "503cc51f-53f0-4cde-a094-161dfc16739b",
   "metadata": {},
   "outputs": [
    {
     "name": "stdout",
     "output_type": "stream",
     "text": [
      "0 1 2 3 4 5 6 7 8 9 "
     ]
    }
   ],
   "source": [
    "for x in range(10):\n",
    "    print(x,end=\" \")"
   ]
  },
  {
   "cell_type": "code",
   "execution_count": 24,
   "id": "80d492a3-3a26-4460-aea3-a59e4be8b1be",
   "metadata": {},
   "outputs": [
    {
     "name": "stdout",
     "output_type": "stream",
     "text": [
      "0\n",
      "1\n",
      "2\n",
      "3\n",
      "4\n",
      "5\n",
      "6\n",
      "7\n",
      "8\n",
      "9\n"
     ]
    }
   ],
   "source": [
    "for x in range(10):\n",
    "    print(x)"
   ]
  },
  {
   "cell_type": "code",
   "execution_count": 23,
   "id": "37624daf-fbdf-4f67-94fa-c9724112d338",
   "metadata": {},
   "outputs": [
    {
     "name": "stdout",
     "output_type": "stream",
     "text": [
      "10\n",
      "11\n",
      "12\n",
      "13\n",
      "14\n",
      "15\n",
      "16\n",
      "17\n",
      "18\n",
      "19\n"
     ]
    }
   ],
   "source": [
    "for x in range(10,20):\n",
    "    print(x)"
   ]
  },
  {
   "cell_type": "code",
   "execution_count": 21,
   "id": "31a91791-0794-4127-ae94-ebe401706600",
   "metadata": {},
   "outputs": [
    {
     "name": "stdout",
     "output_type": "stream",
     "text": [
      "20\n",
      "22\n",
      "24\n",
      "26\n",
      "28\n",
      "30\n",
      "32\n",
      "34\n",
      "36\n",
      "38\n"
     ]
    }
   ],
   "source": [
    "for x in range(20,40,2):\n",
    "    print(x)"
   ]
  },
  {
   "cell_type": "code",
   "execution_count": 26,
   "id": "68533441-58de-4f3c-a1ac-1c06921720da",
   "metadata": {},
   "outputs": [
    {
     "name": "stdout",
     "output_type": "stream",
     "text": [
      "0\n",
      "1\n",
      "5\n",
      "No items left.\n"
     ]
    }
   ],
   "source": [
    "digits=[0,1,5]\n",
    "for i in digits:\n",
    "    print(i)\n",
    "else:\n",
    "    print(\"No items left.\")"
   ]
  },
  {
   "cell_type": "code",
   "execution_count": 9,
   "id": "3a2eb88a-f935-4bcc-907e-07b1150a15dc",
   "metadata": {},
   "outputs": [
    {
     "name": "stdin",
     "output_type": "stream",
     "text": [
      "enter a range:  8\n"
     ]
    },
    {
     "name": "stdout",
     "output_type": "stream",
     "text": [
      "1\n",
      "2\n",
      "3\n",
      "4\n",
      "5\n",
      "6\n",
      "7\n",
      "8\n",
      "Sum of all numbers is 36\n"
     ]
    }
   ],
   "source": [
    "x=int(input('enter a range: '))\n",
    "sum=0\n",
    "for x in range(1,x+1):\n",
    "    print(x)\n",
    "    sum=sum+x\n",
    "print(\"Sum of all numbers is\",sum)"
   ]
  },
  {
   "cell_type": "code",
   "execution_count": 8,
   "id": "e4e818c4-a2b0-46d7-a143-6e27852d8431",
   "metadata": {},
   "outputs": [
    {
     "name": "stdout",
     "output_type": "stream",
     "text": [
      "Bijayeeni is present here.\n"
     ]
    }
   ],
   "source": [
    "student_name='Bijayeeni'\n",
    "names=['Bijayeeni','Mrittika','Monalisa']\n",
    "for i in names:\n",
    "    if i==student_name:\n",
    "        print(i,'is present here.')\n",
    "        break\n",
    "else:\n",
    "    print('No entry with that name found')"
   ]
  },
  {
   "cell_type": "code",
   "execution_count": 15,
   "id": "3fecbc5a-aa3d-4a2f-805a-088d6e929d09",
   "metadata": {},
   "outputs": [
    {
     "name": "stdin",
     "output_type": "stream",
     "text": [
      "Enter the name:  Bikash\n"
     ]
    },
    {
     "name": "stdout",
     "output_type": "stream",
     "text": [
      "No entry with that name found.\n"
     ]
    }
   ],
   "source": [
    "student_name=input('Enter the name: ')\n",
    "names=['Bijayeeni','Mrittika','Monalisa']\n",
    "for i in names:\n",
    "    if i==student_name:\n",
    "        print(i,'is present here.')\n",
    "        break\n",
    "else:\n",
    "    print('No entry with that name found.')"
   ]
  },
  {
   "cell_type": "code",
   "execution_count": 18,
   "id": "594a69c1-583a-4160-ad11-35cc486f4bf9",
   "metadata": {},
   "outputs": [
    {
     "name": "stdout",
     "output_type": "stream",
     "text": [
      "s\n",
      "t\n",
      "r\n",
      "n\n",
      "g\n",
      "The End\n"
     ]
    }
   ],
   "source": [
    "for val in \"string\":\n",
    "    if val=='i':\n",
    "        continue\n",
    "    print(val)\n",
    "print('The End')"
   ]
  },
  {
   "cell_type": "code",
   "execution_count": 26,
   "id": "67a57a1c-11fa-4ced-8afd-11cb191eef6a",
   "metadata": {},
   "outputs": [
    {
     "name": "stdin",
     "output_type": "stream",
     "text": [
      "enter a range:  3\n"
     ]
    },
    {
     "name": "stdout",
     "output_type": "stream",
     "text": [
      "The numbers are:\n",
      "1 2 3 \n",
      "The sum is 6\n"
     ]
    }
   ],
   "source": [
    "n=int(input('enter a range: '))\n",
    "sum=0\n",
    "i=1\n",
    "print('The numbers are:')\n",
    "while i<=n:\n",
    "    print(i,end=\" \")\n",
    "    sum=sum+i\n",
    "    i=i+1\n",
    "print('\\nThe sum is',sum)"
   ]
  },
  {
   "cell_type": "code",
   "execution_count": 3,
   "id": "33500b25-394c-46ac-90d6-80cf0d9239bf",
   "metadata": {},
   "outputs": [
    {
     "name": "stdin",
     "output_type": "stream",
     "text": [
      "enter a number:  123\n"
     ]
    },
    {
     "name": "stdout",
     "output_type": "stream",
     "text": [
      "\n",
      "The sum is 6\n"
     ]
    }
   ],
   "source": [
    "n=int(input('enter a number: '))\n",
    "s=0\n",
    "a=0\n",
    "while n>0:\n",
    "    a=n%10\n",
    "    s=s+a\n",
    "    n=n//10\n",
    "print('\\nThe sum is',s)"
   ]
  },
  {
   "cell_type": "code",
   "execution_count": null,
   "id": "fdde8bbe-5dc6-4edd-a575-e83efaa05deb",
   "metadata": {},
   "outputs": [],
   "source": []
  }
 ],
 "metadata": {
  "kernelspec": {
   "display_name": "Python 3 (ipykernel)",
   "language": "python",
   "name": "python3"
  },
  "language_info": {
   "codemirror_mode": {
    "name": "ipython",
    "version": 3
   },
   "file_extension": ".py",
   "mimetype": "text/x-python",
   "name": "python",
   "nbconvert_exporter": "python",
   "pygments_lexer": "ipython3",
   "version": "3.12.4"
  }
 },
 "nbformat": 4,
 "nbformat_minor": 5
}
