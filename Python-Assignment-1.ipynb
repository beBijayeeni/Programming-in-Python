{
 "cells": [
  {
   "cell_type": "code",
   "execution_count": 4,
   "id": "fd273dd9",
   "metadata": {},
   "outputs": [
    {
     "name": "stdout",
     "output_type": "stream",
     "text": [
      "Enter a number: 121\n",
      "Palindrome\n"
     ]
    }
   ],
   "source": [
    "num = input(\"Enter a number: \")\n",
    "if num == num[::-1]:  \n",
    "    print(\"Palindrome\")  \n",
    "else:  \n",
    "    print(\"Not a Palindrome\")  \n"
   ]
  },
  {
   "cell_type": "code",
   "execution_count": 6,
   "id": "c59beb1e",
   "metadata": {},
   "outputs": [
    {
     "name": "stdout",
     "output_type": "stream",
     "text": [
      "Enter a number: 8\n",
      "Fibonacci Series: 0 1 1 2 3 5 8 "
     ]
    }
   ],
   "source": [
    "limit = int(input(\"Enter a number: \"))  \n",
    "a, b = 0, 1  \n",
    "print(\"Fibonacci Series:\", end=\" \")  \n",
    "while a <= limit:  \n",
    "    print(a, end=\" \")  \n",
    "    a, b = b, a + b"
   ]
  },
  {
   "cell_type": "code",
   "execution_count": 7,
   "id": "a19c018f",
   "metadata": {},
   "outputs": [
    {
     "name": "stdout",
     "output_type": "stream",
     "text": [
      "Enter first number: 34\n",
      "Enter second number: 107\n",
      "After swapping: a = 107 b = 34\n"
     ]
    }
   ],
   "source": [
    "a = int(input(\"Enter first number: \"))  \n",
    "b = int(input(\"Enter second number: \"))  \n",
    "a, b = b, a  \n",
    "print(\"After swapping: a =\", a, \"b =\", b)  "
   ]
  },
  {
   "cell_type": "code",
   "execution_count": 8,
   "id": "39af2bff",
   "metadata": {},
   "outputs": [
    {
     "name": "stdout",
     "output_type": "stream",
     "text": [
      "Enter numbers: 123 112 521\n",
      "Sum of digits of all numbers: [6, 4, 8]\n"
     ]
    }
   ],
   "source": [
    "nums = list(map(int, input(\"Enter numbers: \").split()))  \n",
    "\n",
    "def sum_of_digits(n):  \n",
    "    return sum(int(digit) for digit in str(n))  \n",
    "\n",
    "sum_list = [sum_of_digits(num) for num in nums]  \n",
    "print(\"Sum of digits of all numbers:\", sum_list)  "
   ]
  },
  {
   "cell_type": "code",
   "execution_count": 9,
   "id": "eed2de2d",
   "metadata": {},
   "outputs": [
    {
     "name": "stdout",
     "output_type": "stream",
     "text": [
      "Enter elements of first list: 123 235 412 \n",
      "Enter elements of second list: hii hello\n",
      "Concatenated List: ['123', '235', '412', 'hii', 'hello']\n"
     ]
    }
   ],
   "source": [
    "list1 = input(\"Enter elements of first list: \").split()  \n",
    "list2 = input(\"Enter elements of second list: \").split()  \n",
    "concatenated_list = list1 + list2  \n",
    "print(\"Concatenated List:\", concatenated_list)  "
   ]
  },
  {
   "cell_type": "code",
   "execution_count": 10,
   "id": "9bc9a4ed",
   "metadata": {},
   "outputs": [
    {
     "name": "stdout",
     "output_type": "stream",
     "text": [
      "Enter the number of elements: 5\n",
      "Enter element: 12\n",
      "Enter element: 45\n",
      "Enter element: 56\n",
      "Enter element: 55\n",
      "Enter element: 85\n",
      "Final List: ['12', '45', '56', '55', '85']\n"
     ]
    }
   ],
   "source": [
    "n = int(input(\"Enter the number of elements: \"))  \n",
    "lst = []  \n",
    "\n",
    "for i in range(n):  \n",
    "    lst.append(input(\"Enter element: \"))  \n",
    "\n",
    "print(\"Final List:\", lst)  "
   ]
  },
  {
   "cell_type": "code",
   "execution_count": 11,
   "id": "b0b4f1ef",
   "metadata": {},
   "outputs": [
    {
     "name": "stdout",
     "output_type": "stream",
     "text": [
      "Enter elements of first list: 12\n",
      "Enter elements of second list: 14m 56h\n",
      "Extended List: ['12', '14m', '56h']\n"
     ]
    }
   ],
   "source": [
    "list1 = input(\"Enter elements of first list: \").split()  \n",
    "list2 = input(\"Enter elements of second list: \").split()  \n",
    "list1.extend(list2)  \n",
    "print(\"Extended List:\", list1)"
   ]
  },
  {
   "cell_type": "code",
   "execution_count": 12,
   "id": "90f63c84",
   "metadata": {},
   "outputs": [
    {
     "name": "stdout",
     "output_type": "stream",
     "text": [
      "Enter elements of the list: 12 56 47 10\n",
      "Enter the element to search: 41\n",
      "Element '41' not found in the list.\n"
     ]
    }
   ],
   "source": [
    "lst = input(\"Enter elements of the list: \").split()  \n",
    "search=input(\"Enter the element to search: \")  \n",
    "\n",
    "if search in lst:  \n",
    "    print(f\"Element '{search}' found in the list.\")  \n",
    "else:  \n",
    "    print(f\"Element '{search}' not found in the list.\")  \n"
   ]
  },
  {
   "cell_type": "code",
   "execution_count": 13,
   "id": "0e50d858",
   "metadata": {},
   "outputs": [
    {
     "name": "stdout",
     "output_type": "stream",
     "text": [
      "Enter items for the first tuple: bikash maggie sandwich coffee friendship momo\n",
      "Enter items for the second tuple: brocode\n",
      "Item 'bikash' is NOT present in the second tuple.\n",
      "Item 'maggie' is NOT present in the second tuple.\n",
      "Item 'sandwich' is NOT present in the second tuple.\n",
      "Item 'coffee' is NOT present in the second tuple.\n",
      "Item 'friendship' is NOT present in the second tuple.\n",
      "Item 'momo' is NOT present in the second tuple.\n"
     ]
    }
   ],
   "source": [
    "# Get input for the first tuple\n",
    "tuple1 = tuple(input(\"Enter items for the first tuple: \").split())\n",
    "# Get input for the second tuple\n",
    "tuple2 = tuple(input(\"Enter items for the second tuple: \").split())\n",
    "\n",
    "# For each item in the first tuple, check if it is in the second tuple\n",
    "for item in tuple1:\n",
    "    if item in tuple2:\n",
    "        print(f\"Item '{item}' is present in the second tuple.\")\n",
    "    else:\n",
    "        print(f\"Item '{item}' is NOT present in the second tuple.\")\n"
   ]
  },
  {
   "cell_type": "code",
   "execution_count": null,
   "id": "9f2bcd6e",
   "metadata": {},
   "outputs": [],
   "source": []
  }
 ],
 "metadata": {
  "kernelspec": {
   "display_name": "Python 3 (ipykernel)",
   "language": "python",
   "name": "python3"
  },
  "language_info": {
   "codemirror_mode": {
    "name": "ipython",
    "version": 3
   },
   "file_extension": ".py",
   "mimetype": "text/x-python",
   "name": "python",
   "nbconvert_exporter": "python",
   "pygments_lexer": "ipython3",
   "version": "3.9.13"
  }
 },
 "nbformat": 4,
 "nbformat_minor": 5
}
