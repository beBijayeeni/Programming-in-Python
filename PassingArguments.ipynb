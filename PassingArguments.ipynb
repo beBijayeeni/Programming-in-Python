{
 "cells": [
  {
   "cell_type": "code",
   "execution_count": 2,
   "id": "5b6e1652-2cc5-4959-b2d2-9de6d823a0ea",
   "metadata": {},
   "outputs": [
    {
     "name": "stdout",
     "output_type": "stream",
     "text": [
      "Name: Bikash\n",
      "Age: 50\n",
      "Name: Bikash\n",
      "Age: 27\n"
     ]
    }
   ],
   "source": [
    "def printinfo(name, age=27):\n",
    "    print(\"Name:\",name)\n",
    "    print(\"Age:\",age)\n",
    "printinfo(age=50,name='Bikash')\n",
    "printinfo(name='Bikash')"
   ]
  },
  {
   "cell_type": "code",
   "execution_count": 4,
   "id": "a48913a0-e4a3-42d8-b46a-127e880f52bf",
   "metadata": {},
   "outputs": [
    {
     "name": "stdin",
     "output_type": "stream",
     "text": [
      "Enter first number 2\n",
      "Enter second number 4\n"
     ]
    },
    {
     "name": "stdout",
     "output_type": "stream",
     "text": [
      "Sum is 6\n",
      "Difference is 2\n",
      "Multiplication is 8\n",
      "Quotient is 0\n"
     ]
    }
   ],
   "source": [
    "def calc(x,y):\n",
    "    prod=1\n",
    "    div=0\n",
    "    sum=0\n",
    "    minus=0\n",
    "    prod=x*y\n",
    "    div=x//y\n",
    "    sum=x+y\n",
    "    minus=abs(x-y)\n",
    "    return(sum,minus,prod,div)\n",
    "def main():\n",
    "    p=int(input(\"Enter first number\"))\n",
    "    q=int(input(\"Enter second number\"))\n",
    "    [add,diff,mult,divi]=calc(p,q)\n",
    "    print(\"Sum is\",add)\n",
    "    print(\"Difference is\",diff)\n",
    "    print(\"Multiplication is\",mult)\n",
    "    print(\"Quotient is\",divi)\n",
    "main()"
   ]
  },
  {
   "cell_type": "code",
   "execution_count": 6,
   "id": "12e4abe9-511c-4364-9810-4a85a99b00e3",
   "metadata": {},
   "outputs": [
    {
     "name": "stdout",
     "output_type": "stream",
     "text": [
      "Output is:\n",
      "10\n",
      "Output is:\n",
      "10\n",
      "30\n",
      "70\n",
      "mine\n"
     ]
    }
   ],
   "source": [
    "def printinfo(*vartuple):\n",
    "    print('Output is:')\n",
    "    for v in vartuple:\n",
    "        print(v)\n",
    "printinfo(10)\n",
    "printinfo(10,30,70,'mine')"
   ]
  },
  {
   "cell_type": "code",
   "execution_count": 12,
   "id": "e1746037-e631-46bc-a6a8-0518284acf6b",
   "metadata": {},
   "outputs": [
    {
     "name": "stdout",
     "output_type": "stream",
     "text": [
      "The sum is: 110\n",
      "The product is: 24\n"
     ]
    }
   ],
   "source": [
    "def sum(*vartuple):\n",
    "    s=0\n",
    "    for v in vartuple:\n",
    "        s=s+v\n",
    "    return s\n",
    "def mult(*vartuple):\n",
    "    prod=1\n",
    "    for v in vartuple:\n",
    "        prod=prod*v\n",
    "    return prod\n",
    "s=sum(10,30,70)\n",
    "m=mult(12,2)\n",
    "print('The sum is:',s)\n",
    "print('The product is:',m)"
   ]
  },
  {
   "cell_type": "code",
   "execution_count": null,
   "id": "9642acc8-4e46-4082-a29a-4fad2fdb0f2b",
   "metadata": {},
   "outputs": [],
   "source": []
  }
 ],
 "metadata": {
  "kernelspec": {
   "display_name": "Python 3 (ipykernel)",
   "language": "python",
   "name": "python3"
  },
  "language_info": {
   "codemirror_mode": {
    "name": "ipython",
    "version": 3
   },
   "file_extension": ".py",
   "mimetype": "text/x-python",
   "name": "python",
   "nbconvert_exporter": "python",
   "pygments_lexer": "ipython3",
   "version": "3.12.4"
  }
 },
 "nbformat": 4,
 "nbformat_minor": 5
}
