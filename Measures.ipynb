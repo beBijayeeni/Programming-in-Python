{
 "cells": [
  {
   "cell_type": "code",
   "execution_count": 1,
   "id": "5ffe1d60-d9ec-4b24-8fb0-69e22b717563",
   "metadata": {},
   "outputs": [
    {
     "name": "stdout",
     "output_type": "stream",
     "text": [
      "Maximum = 5, Minimum = 1 and Range = 4\n"
     ]
    }
   ],
   "source": [
    "list = [1,2,3,4,5]\n",
    "maximum = max(list)\n",
    "minimum = min(list)\n",
    "range = maximum - minimum\n",
    "print(\"Maximum = {}, Minimum = {} and Range = {}\".format(maximum,minimum,range))"
   ]
  },
  {
   "cell_type": "code",
   "execution_count": 11,
   "id": "56735b82-8b88-4762-b026-d462ca6c26d6",
   "metadata": {},
   "outputs": [
    {
     "name": "stdout",
     "output_type": "stream",
     "text": [
      "Standard Deviation of Data 1 is = 6.75\n",
      "Standard Deviation of Data 2 is = 2.01\n",
      "Standard Deviation of Data 3 is = 7.52\n",
      "2.007223796297028\n"
     ]
    }
   ],
   "source": [
    "data1 = [12,11,32,25,23,15,14,13,16,19]\n",
    "data2 = [15,17,19,18,16,20,22,14,21,19,18,17,16,20,19,18,17,18,19,20]\n",
    "data3 = [6,7,9,10,11,13,14,16,17,19,20,21,22,23,24,25,26,27,29,31]\n",
    "data1_std_dev = variance(data1) ** 0.5\n",
    "data2_std_dev = variance(data2) ** 0.5\n",
    "data3_std_dev = variance(data3) ** 0.5\n",
    "print('Standard Deviation of Data 1 is = %.2f' %(data1_std_dev))\n",
    "print('Standard Deviation of Data 2 is = %.2f' %(data2_std_dev))\n",
    "print('Standard Deviation of Data 3 is = %.2f' %(data3_std_dev))\n",
    "\n",
    "list = [data1_std_dev, data2_std_dev, data3_std_dev]\n",
    "minimum = min(list)\n",
    "print(minimum)\n"
   ]
  },
  {
   "cell_type": "code",
   "execution_count": 8,
   "id": "47ce5542-b499-4519-b583-820b528b5079",
   "metadata": {},
   "outputs": [
    {
     "name": "stdout",
     "output_type": "stream",
     "text": [
      "Standard Deviation= 6.40\n"
     ]
    }
   ],
   "source": [
    "def calculate_std_dev(data):\n",
    "    mean = sum(data)/len(data)\n",
    "    squared_diff  = [(x - mean) ** 2 for x in data]\n",
    "    variance = sum(squared_diff)/len(data)\n",
    "    std_dev = variance ** 0.5\n",
    "    return std_dev\n",
    "print('Standard Deviation= %.2f' %calculate_variance(data))"
   ]
  },
  {
   "cell_type": "code",
   "execution_count": 9,
   "id": "4a51dc7d-b5cf-4b8d-bd5e-5ee6e2906e9f",
   "metadata": {},
   "outputs": [
    {
     "name": "stdout",
     "output_type": "stream",
     "text": [
      "Standard Deviation= 6.75\n"
     ]
    }
   ],
   "source": [
    "from statistics import variance \n",
    "print('Standard Deviation= %.2f' %variance(data) ** 0.5)"
   ]
  },
  {
   "cell_type": "code",
   "execution_count": null,
   "id": "4c98938b-2008-4410-9d48-8165cead0f77",
   "metadata": {},
   "outputs": [],
   "source": []
  }
 ],
 "metadata": {
  "kernelspec": {
   "display_name": "Python 3 (ipykernel)",
   "language": "python",
   "name": "python3"
  },
  "language_info": {
   "codemirror_mode": {
    "name": "ipython",
    "version": 3
   },
   "file_extension": ".py",
   "mimetype": "text/x-python",
   "name": "python",
   "nbconvert_exporter": "python",
   "pygments_lexer": "ipython3",
   "version": "3.12.4"
  }
 },
 "nbformat": 4,
 "nbformat_minor": 5
}
