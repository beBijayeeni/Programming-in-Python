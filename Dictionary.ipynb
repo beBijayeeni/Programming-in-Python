{
 "cells": [
  {
   "cell_type": "code",
   "execution_count": 1,
   "id": "d1db46a0-8cfb-4214-990e-2c4599c66aad",
   "metadata": {},
   "outputs": [
    {
     "name": "stdout",
     "output_type": "stream",
     "text": [
      "Bikash\n"
     ]
    }
   ],
   "source": [
    "my_dict={'name':'Bikash','age':30}\n",
    "print(my_dict['name'])"
   ]
  },
  {
   "cell_type": "code",
   "execution_count": 2,
   "id": "551186eb-baa3-478c-9a0c-299c5c56399c",
   "metadata": {},
   "outputs": [
    {
     "name": "stdout",
     "output_type": "stream",
     "text": [
      "30\n"
     ]
    }
   ],
   "source": [
    "print(my_dict.get('age'))"
   ]
  },
  {
   "cell_type": "code",
   "execution_count": 3,
   "id": "853a45bc-82a5-4daa-9934-c44123737500",
   "metadata": {},
   "outputs": [
    {
     "name": "stdout",
     "output_type": "stream",
     "text": [
      "30\n"
     ]
    }
   ],
   "source": [
    "print(my_dict['age'])"
   ]
  },
  {
   "cell_type": "code",
   "execution_count": 4,
   "id": "32999d06-f051-4f55-8dd0-23708288cbc6",
   "metadata": {},
   "outputs": [
    {
     "name": "stdout",
     "output_type": "stream",
     "text": [
      "{'name': 'bikash', 'age': 26, 'city': 'bhubaneswar'}\n"
     ]
    }
   ],
   "source": [
    "my_dict=dict(name='bikash',age=26,city='bhubaneswar')\n",
    "print(my_dict)"
   ]
  },
  {
   "cell_type": "code",
   "execution_count": 16,
   "id": "0a535823-60a6-4088-9691-a90eda75af26",
   "metadata": {},
   "outputs": [
    {
     "name": "stdout",
     "output_type": "stream",
     "text": [
      "{'name': 'Bikash', 'age': 29, 'city': 'Bhubaneswar'}\n",
      "{'name': 'Bikash', 'age': 29, 'city': 'Bhubaneswar', 'address': 'KP9C'}\n"
     ]
    }
   ],
   "source": [
    "my_dict['age']=29\n",
    "print(my_dict)\n",
    "my_dict['address']='KP9C'\n",
    "print(my_dict)"
   ]
  },
  {
   "cell_type": "code",
   "execution_count": 5,
   "id": "c10a6269-c4c1-4426-9098-11b0f162d3fb",
   "metadata": {},
   "outputs": [
    {
     "name": "stdout",
     "output_type": "stream",
     "text": [
      "{'name': 'Bikash', 'age': 27, 'city': 'Bhubaneswar'}\n"
     ]
    }
   ],
   "source": [
    "keys=['name','age','city']\n",
    "values=['Bikash',27,'Bhubaneswar']\n",
    "my_dict=dict(zip(keys,values))\n",
    "print(my_dict)"
   ]
  },
  {
   "cell_type": "code",
   "execution_count": 21,
   "id": "c284bc55-5b2d-4e65-8558-c544b46a0028",
   "metadata": {},
   "outputs": [
    {
     "name": "stdout",
     "output_type": "stream",
     "text": [
      "dict_values(['Bikash', 29, 'Bhubaneswar', 'KP9C'])\n"
     ]
    }
   ],
   "source": [
    "list = my_dict.values()\n",
    "print(list)"
   ]
  },
  {
   "cell_type": "code",
   "execution_count": 6,
   "id": "d1307b93-1566-42e7-a5e0-b746e33089c8",
   "metadata": {},
   "outputs": [
    {
     "name": "stdout",
     "output_type": "stream",
     "text": [
      "{0: 0, 1: 1, 2: 4, 3: 9, 4: 16, 5: 25}\n"
     ]
    }
   ],
   "source": [
    "squares={x:x*x for x in range(6)}\n",
    "print(squares)"
   ]
  },
  {
   "cell_type": "code",
   "execution_count": 17,
   "id": "d467c25c-2815-4736-90c2-d1a91488ffeb",
   "metadata": {},
   "outputs": [
    {
     "name": "stdout",
     "output_type": "stream",
     "text": [
      "16\n"
     ]
    }
   ],
   "source": [
    "print(squares.pop(4))"
   ]
  },
  {
   "cell_type": "code",
   "execution_count": 18,
   "id": "cfb85142-e7ef-430c-ba9e-a6ab29f3c8fc",
   "metadata": {},
   "outputs": [
    {
     "name": "stdout",
     "output_type": "stream",
     "text": [
      "(5, 25)\n"
     ]
    }
   ],
   "source": [
    "print(squares.popitem())"
   ]
  },
  {
   "cell_type": "code",
   "execution_count": 20,
   "id": "04ba6b2b-4201-4357-ac3c-a37a3b61c2c0",
   "metadata": {},
   "outputs": [
    {
     "name": "stdout",
     "output_type": "stream",
     "text": [
      "{}\n"
     ]
    }
   ],
   "source": [
    "squares.clear()\n",
    "print(squares)"
   ]
  },
  {
   "cell_type": "code",
   "execution_count": 8,
   "id": "c548cc5b-23e4-4f39-be3c-4c5363733338",
   "metadata": {},
   "outputs": [
    {
     "name": "stdout",
     "output_type": "stream",
     "text": [
      "{1: 1, 3: 9, 5: 25, 7: 49, 9: 81}\n"
     ]
    }
   ],
   "source": [
    "odd_squares={x:x*x for x in range(11) if x%2 == 1}\n",
    "print(odd_squares)"
   ]
  },
  {
   "cell_type": "code",
   "execution_count": 11,
   "id": "37e6ef1e-1a1c-4201-9041-1ed59864a8f7",
   "metadata": {},
   "outputs": [
    {
     "name": "stdout",
     "output_type": "stream",
     "text": [
      "['Delhi', 'West Bengal', 'Assam']\n",
      "Delhi\n",
      "Assam\n",
      "New Jersy\n"
     ]
    }
   ],
   "source": [
    "country={'India':['Delhi','West Bengal','Assam'],\n",
    "        'Japan':['Hokkaido','Chubu','Tohoku'],\n",
    "        'United States':['New York','Texas','New Jersy']}\n",
    "print(country['India'])\n",
    "print(country['India'][0])\n",
    "print(country['India'][2])\n",
    "print(country['United States'][2])"
   ]
  },
  {
   "cell_type": "raw",
   "id": "782a5bbf-fcb5-4b09-a3a3-db705253202b",
   "metadata": {},
   "source": [
    "print(squares.pop(4))"
   ]
  },
  {
   "cell_type": "code",
   "execution_count": null,
   "id": "95a5f45a-4c88-4557-a35b-dc8cb449d16a",
   "metadata": {},
   "outputs": [],
   "source": []
  }
 ],
 "metadata": {
  "kernelspec": {
   "display_name": "Python 3 (ipykernel)",
   "language": "python",
   "name": "python3"
  },
  "language_info": {
   "codemirror_mode": {
    "name": "ipython",
    "version": 3
   },
   "file_extension": ".py",
   "mimetype": "text/x-python",
   "name": "python",
   "nbconvert_exporter": "python",
   "pygments_lexer": "ipython3",
   "version": "3.12.4"
  }
 },
 "nbformat": 4,
 "nbformat_minor": 5
}
