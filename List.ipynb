{
 "cells": [
  {
   "cell_type": "code",
   "execution_count": 1,
   "id": "d8e4bb19-9121-448b-a2aa-f3def0268ee5",
   "metadata": {},
   "outputs": [
    {
     "name": "stdout",
     "output_type": "stream",
     "text": [
      "[]\n"
     ]
    }
   ],
   "source": [
    "my_list=[]\n",
    "print(my_list)"
   ]
  },
  {
   "cell_type": "code",
   "execution_count": 20,
   "id": "24c8d74e-c609-4961-9e55-a1982faea895",
   "metadata": {},
   "outputs": [
    {
     "name": "stdout",
     "output_type": "stream",
     "text": [
      "[1, 2, 3]\n",
      "[1, 3, 2, 3]\n",
      "[1, 3, 5, 7, 2, 3]\n"
     ]
    }
   ],
   "source": [
    "my_list=[1,2,3]\n",
    "print(my_list)\n",
    "my_list.insert(1,3)\n",
    "print(my_list)\n",
    "my_list[2:2]=[5,7]\n",
    "print(my_list)"
   ]
  },
  {
   "cell_type": "code",
   "execution_count": 3,
   "id": "56fe52f2-c907-4490-9da3-f7289c9f662a",
   "metadata": {},
   "outputs": [
    {
     "name": "stdout",
     "output_type": "stream",
     "text": [
      "[1, 'HELLO', 3.67]\n"
     ]
    }
   ],
   "source": [
    "my_list=[1,'HELLO',3.67]\n",
    "print(my_list)"
   ]
  },
  {
   "cell_type": "code",
   "execution_count": 9,
   "id": "972da58e-6cbf-49e1-af5d-1dcd72549a30",
   "metadata": {},
   "outputs": [
    {
     "name": "stdout",
     "output_type": "stream",
     "text": [
      "y\n",
      "e\n",
      "j\n",
      "n\n",
      "y\n",
      "['j', 'a', 'y']\n",
      "['b', 'i', 'j', 'a', 'y', 'e', 'e']\n",
      "['j', 'a', 'y', 'e', 'e', 'n', 'i']\n",
      "['b', 'i', 'j', 'a', 'y', 'e', 'e', 'n', 'i']\n"
     ]
    }
   ],
   "source": [
    "my_list=['b','i','j','a','y','e','e','n','i']\n",
    "print(my_list[4])\n",
    "print(my_list[5])\n",
    "print(my_list[2])\n",
    "print(my_list[-2])\n",
    "print(my_list[-5])\n",
    "print(my_list[2:5])\n",
    "print(my_list[:-2])\n",
    "print(my_list[2:])\n",
    "print(my_list[:])"
   ]
  },
  {
   "cell_type": "code",
   "execution_count": 6,
   "id": "92897c85-de1d-48bc-ad1e-60d80607a957",
   "metadata": {},
   "outputs": [
    {
     "name": "stdout",
     "output_type": "stream",
     "text": [
      "a\n",
      "0\n"
     ]
    }
   ],
   "source": [
    "nested_list=['happy',[2,1,5,0]]\n",
    "print(nested_list[0][1])\n",
    "print(nested_list[1][3])"
   ]
  },
  {
   "cell_type": "code",
   "execution_count": 14,
   "id": "bb236359-0681-467c-bdb4-d3381abf4703",
   "metadata": {},
   "outputs": [
    {
     "name": "stdout",
     "output_type": "stream",
     "text": [
      "[10, 4, 6, 8]\n",
      "[10, 12, 14, 16]\n"
     ]
    }
   ],
   "source": [
    "even=[2,4,6,8]\n",
    "even[0]=10\n",
    "print(even)\n",
    "even[1:4]=[12,14,16]\n",
    "print(even)"
   ]
  },
  {
   "cell_type": "code",
   "execution_count": 13,
   "id": "345605b9-17b0-464b-a4bf-cb546a5ad047",
   "metadata": {},
   "outputs": [
    {
     "name": "stdout",
     "output_type": "stream",
     "text": [
      "printing the list\n",
      "1\n",
      "2\n",
      "3\n",
      "4\n",
      "5\n",
      "hello\n",
      "23\n",
      "430.3305\n",
      "[1, 2, 3, 4, 5, 'hello', 23, 430.3305]\n"
     ]
    }
   ],
   "source": [
    "x=[1,2,3,4,5]\n",
    "x.append('hello')\n",
    "x.append(23)\n",
    "x.append(430.3305)\n",
    "print('printing the list')\n",
    "for i in x:\n",
    "    print(i)\n",
    "print(x)"
   ]
  },
  {
   "cell_type": "code",
   "execution_count": 17,
   "id": "fce68124-4d1c-40b2-b085-b19796ce4655",
   "metadata": {},
   "outputs": [
    {
     "name": "stdout",
     "output_type": "stream",
     "text": [
      "[1, 2, 3, 5, 9, 11, 13]\n",
      "[1, 2, 3, 5, 9, 11, 13, 17, 19, 7]\n"
     ]
    }
   ],
   "source": [
    "odd=[1,2,3]\n",
    "odd.append(5)\n",
    "odd.extend([9,11,13])\n",
    "print(odd)\n",
    "print(odd+[17,19,7])"
   ]
  },
  {
   "cell_type": "code",
   "execution_count": 18,
   "id": "7ab9c37b-f118-4363-a862-46a831e1758f",
   "metadata": {},
   "outputs": [
    {
     "name": "stdout",
     "output_type": "stream",
     "text": [
      "['BIJAYEENI', 'BIJAYEENI', 'BIJAYEENI']\n"
     ]
    }
   ],
   "source": [
    "print(['BIJAYEENI']*3)"
   ]
  },
  {
   "cell_type": "code",
   "execution_count": 26,
   "id": "dd9fa3c7-fb6b-4ae4-926c-1de3edb8ed30",
   "metadata": {},
   "outputs": [
    {
     "name": "stdout",
     "output_type": "stream",
     "text": [
      "['p', 'r', 'b', 'l', 'e', 'm']\n",
      "['p', 'm']\n"
     ]
    }
   ],
   "source": [
    "my_list=['p','r','o','b','l','e','m']\n",
    "del my_list[2]\n",
    "print(my_list)\n",
    "del my_list[1:5]\n",
    "print(my_list)"
   ]
  },
  {
   "cell_type": "code",
   "execution_count": 25,
   "id": "d62ca4cc-d9b2-457d-9e03-b7366ef4bd15",
   "metadata": {},
   "outputs": [],
   "source": [
    "my_list=['p','r','o','b','l','e','m']\n",
    "del my_list"
   ]
  },
  {
   "cell_type": "code",
   "execution_count": 31,
   "id": "172a00e7-ffda-4392-8215-3708ae975547",
   "metadata": {},
   "outputs": [
    {
     "name": "stdout",
     "output_type": "stream",
     "text": [
      "['b', 'i', 'j', 'a', 'y', 'e', 'n', 'i']\n",
      "i\n",
      "['b', 'j', 'a', 'y', 'e', 'n', 'i']\n",
      "i\n",
      "['b', 'j', 'a', 'y', 'e', 'n']\n",
      "Sorted List: ['a', 'b', 'e', 'j', 'n', 'y']\n",
      "Descending Sorted List: ['y', 'n', 'j', 'e', 'b', 'a']\n",
      "[]\n"
     ]
    }
   ],
   "source": [
    "my_list=['b','i','j','a','y','e','e','n','i']\n",
    "my_list.remove('e')\n",
    "print(my_list)\n",
    "print(my_list.pop(1))\n",
    "print(my_list)\n",
    "print(my_list.pop())\n",
    "print(my_list)\n",
    "my_list.sort()\n",
    "print('Sorted List:',my_list)\n",
    "my_list.sort(reverse=True)\n",
    "print('Descending Sorted List:',my_list)\n",
    "my_list.clear()\n",
    "print(my_list)"
   ]
  },
  {
   "cell_type": "code",
   "execution_count": 2,
   "id": "871179bf-d3e8-4624-9b0d-61c89f0c5fa3",
   "metadata": {},
   "outputs": [
    {
     "name": "stdout",
     "output_type": "stream",
     "text": [
      "['a', 'e', 'i', 'o', 'u']\n"
     ]
    }
   ],
   "source": [
    "pyList =['e','a','i','o','u']\n",
    "print(sorted(pyList))"
   ]
  },
  {
   "cell_type": "code",
   "execution_count": 3,
   "id": "d1f7bff0-275b-472c-a07e-d06f4646230a",
   "metadata": {},
   "outputs": [
    {
     "name": "stdout",
     "output_type": "stream",
     "text": [
      "7\n"
     ]
    }
   ],
   "source": [
    "my_list=['b','i','j','a','y','e','e','n','i']\n",
    "index=my_list.index('n')\n",
    "print(index)"
   ]
  },
  {
   "cell_type": "code",
   "execution_count": 7,
   "id": "d3e6550e-baa1-4c90-b630-878c6f70f983",
   "metadata": {},
   "outputs": [
    {
     "name": "stdout",
     "output_type": "stream",
     "text": [
      "2\n",
      "y\n",
      "a\n"
     ]
    }
   ],
   "source": [
    "my_list=['b','i','j','a','y','e','e','n','i']\n",
    "print(my_list.count('e'))\n",
    "print(max(my_list))\n",
    "print(min(my_list))"
   ]
  },
  {
   "cell_type": "code",
   "execution_count": 10,
   "id": "fa15d8a1-9fd0-40a5-b530-218267d7e0fe",
   "metadata": {},
   "outputs": [
    {
     "name": "stdout",
     "output_type": "stream",
     "text": [
      "Sum of elements 49\n",
      "[1, 7, 2, 3, 4, 5, 6, 7, 2, 3, 9, 'B']\n",
      "[1, 7, 2, 3, 4, 5, 6, 7, 2, 3, 9, 'B']\n"
     ]
    }
   ],
   "source": [
    "my_list=[1,7,2,3,4,5,6,7,2,3,9]\n",
    "print('Sum of elements',sum(my_list))\n",
    "new_list=my_list\n",
    "new_list.append('B')\n",
    "print(new_list)\n",
    "print(my_list)"
   ]
  },
  {
   "cell_type": "code",
   "execution_count": 11,
   "id": "5f283359-1a8c-4909-a462-804b948a3c6f",
   "metadata": {},
   "outputs": [
    {
     "name": "stdout",
     "output_type": "stream",
     "text": [
      "Sum of elements 49\n",
      "[1, 7, 2, 3, 4, 5, 6, 7, 2, 3, 9, 'B']\n",
      "[1, 7, 2, 3, 4, 5, 6, 7, 2, 3, 9]\n"
     ]
    }
   ],
   "source": [
    "my_list=[1,7,2,3,4,5,6,7,2,3,9]\n",
    "print('Sum of elements',sum(my_list))\n",
    "new_list=my_list.copy()\n",
    "new_list.append('B')\n",
    "print(new_list)\n",
    "print(my_list)"
   ]
  },
  {
   "cell_type": "code",
   "execution_count": 20,
   "id": "9205bef2-cbea-42ea-abc6-17b47b413045",
   "metadata": {},
   "outputs": [
    {
     "name": "stdout",
     "output_type": "stream",
     "text": [
      "[4, 6, 8, 10]\n",
      "[17, 16, 15, 14, 13, 12, 11, 10, 9]\n",
      "[6, 5, 4, 3]\n",
      "[17, 16, 15, 14, 13, 12, 11, 10, 9, 8, 7, 6, 5, 4, 3, 2, 1]\n"
     ]
    }
   ],
   "source": [
    "list=[1,2,3,4,5,6,7,8,9,10,11,12,13,14,15,16,17]\n",
    "print(list[3:10:2])\n",
    "print(list[-1:-10:-1])\n",
    "print(list[5:1:-1])\n",
    "print(list[::-1])"
   ]
  }
 ],
 "metadata": {
  "kernelspec": {
   "display_name": "Python 3 (ipykernel)",
   "language": "python",
   "name": "python3"
  },
  "language_info": {
   "codemirror_mode": {
    "name": "ipython",
    "version": 3
   },
   "file_extension": ".py",
   "mimetype": "text/x-python",
   "name": "python",
   "nbconvert_exporter": "python",
   "pygments_lexer": "ipython3",
   "version": "3.12.4"
  }
 },
 "nbformat": 4,
 "nbformat_minor": 5
}
