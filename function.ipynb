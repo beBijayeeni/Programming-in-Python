{
 "cells": [
  {
   "cell_type": "code",
   "execution_count": 1,
   "id": "39edec55-41af-4fc5-9892-bd41461722ba",
   "metadata": {},
   "outputs": [
    {
     "name": "stdout",
     "output_type": "stream",
     "text": [
      "Hello from a function\n"
     ]
    }
   ],
   "source": [
    "def my_function():\n",
    "    print(\"Hello from a function\")\n",
    "my_function()"
   ]
  },
  {
   "cell_type": "code",
   "execution_count": 5,
   "id": "e78b4f74-98d9-44cd-ac20-a8ecebab0457",
   "metadata": {},
   "outputs": [
    {
     "name": "stdout",
     "output_type": "stream",
     "text": [
      "Bijayeeni Halder\n"
     ]
    }
   ],
   "source": [
    "def my_function(fname,lname):\n",
    "    print(fname+' '+lname)\n",
    "my_function('Bijayeeni','Halder')"
   ]
  },
  {
   "cell_type": "code",
   "execution_count": 8,
   "id": "256dfd78-cd20-4fed-84ce-6739410e6538",
   "metadata": {},
   "outputs": [
    {
     "name": "stdin",
     "output_type": "stream",
     "text": [
      "Enter a number 20\n"
     ]
    },
    {
     "name": "stdout",
     "output_type": "stream",
     "text": [
      "My result is:  6\n"
     ]
    }
   ],
   "source": [
    "def my_function(n):\n",
    "    if n>17:\n",
    "        diff=n-17\n",
    "        return diff*2\n",
    "    else:\n",
    "        return abs(17-n)\n",
    "num=int(input('Enter a number'))\n",
    "result=my_function(num)\n",
    "print('My result is: ',result)"
   ]
  },
  {
   "cell_type": "code",
   "execution_count": 11,
   "id": "24a1c3b0-1311-439f-bf2c-9806f8c6807a",
   "metadata": {},
   "outputs": [
    {
     "name": "stdin",
     "output_type": "stream",
     "text": [
      "Enter first number 1\n",
      "Enter second number 2\n",
      "Enter third number 3\n"
     ]
    },
    {
     "name": "stdout",
     "output_type": "stream",
     "text": [
      "My result is:  6\n"
     ]
    }
   ],
   "source": [
    "def sum(a,b,c):\n",
    "    if a==b==c:\n",
    "        return 3*(a+b+c)\n",
    "    else:\n",
    "        return a+b+c\n",
    "n1=int(input('Enter first number'))\n",
    "n2=int(input('Enter second number'))\n",
    "n3=int(input('Enter third number'))\n",
    "result=sum(n1,n2,n3)\n",
    "print('My result is: ',result)"
   ]
  },
  {
   "cell_type": "code",
   "execution_count": 13,
   "id": "9acdf8dd-068f-4a29-943c-9e7a6b4bd9df",
   "metadata": {},
   "outputs": [
    {
     "name": "stdout",
     "output_type": "stream",
     "text": [
      "20\n",
      "12\n",
      "22\n"
     ]
    }
   ],
   "source": [
    "def sum(x,y):\n",
    "    sum=x+y\n",
    "    if sum in range(15,20):\n",
    "        return 20\n",
    "    else:\n",
    "        return sum\n",
    "print(sum(10,6))\n",
    "print(sum(10,2))\n",
    "print(sum(10,12))"
   ]
  },
  {
   "cell_type": "code",
   "execution_count": null,
   "id": "2819f018-7117-4487-a4ec-47df638f88e4",
   "metadata": {},
   "outputs": [],
   "source": [
    "def counting(num):\n",
    "    c=0\n",
    "    while(num>0):\n",
    "        num=num//10\n",
    "        c+=1\n",
    "    return c\n",
    "n=int(input('Enter a number'))\n",
    "result=counting(n)\n",
    "print('My result is: ',result)"
   ]
  },
  {
   "cell_type": "code",
   "execution_count": 1,
   "id": "711f9661-ba3e-448f-9e8f-1e691e93815f",
   "metadata": {},
   "outputs": [
    {
     "name": "stdin",
     "output_type": "stream",
     "text": [
      "Enter a number 9\n"
     ]
    },
    {
     "name": "stdout",
     "output_type": "stream",
     "text": [
      "It is a neon number\n"
     ]
    }
   ],
   "source": [
    "def neon(n):\n",
    "    sqr=n*n\n",
    "    s=0\n",
    "    while(sqr>0):\n",
    "        a=sqr%10\n",
    "        s=s+a\n",
    "        sqr=sqr//10\n",
    "    if s==n:\n",
    "        print('It is a neon number')\n",
    "    else:\n",
    "        print('It is not a neon number')\n",
    "num=int(input('Enter a number'))\n",
    "neon(num)"
   ]
  },
  {
   "cell_type": "code",
   "execution_count": 1,
   "id": "69df3241-afe6-4aac-a3d6-045de5bc25d9",
   "metadata": {},
   "outputs": [
    {
     "name": "stdin",
     "output_type": "stream",
     "text": [
      "Enter a number 1234\n"
     ]
    },
    {
     "name": "stdout",
     "output_type": "stream",
     "text": [
      "My result is:  4\n"
     ]
    }
   ],
   "source": [
    "def counting(num):\n",
    "    c=0\n",
    "    while(num>0):\n",
    "        num=num//10\n",
    "        c+=1\n",
    "    return c\n",
    "n=int(input('Enter a number'))\n",
    "result=counting(n)\n",
    "print('My result is: ',result)"
   ]
  },
  {
   "cell_type": "code",
   "execution_count": null,
   "id": "c56f87fd-c1f0-4cb1-a671-355e023578f9",
   "metadata": {},
   "outputs": [],
   "source": []
  }
 ],
 "metadata": {
  "kernelspec": {
   "display_name": "Python 3 (ipykernel)",
   "language": "python",
   "name": "python3"
  },
  "language_info": {
   "codemirror_mode": {
    "name": "ipython",
    "version": 3
   },
   "file_extension": ".py",
   "mimetype": "text/x-python",
   "name": "python",
   "nbconvert_exporter": "python",
   "pygments_lexer": "ipython3",
   "version": "3.12.4"
  }
 },
 "nbformat": 4,
 "nbformat_minor": 5
}
