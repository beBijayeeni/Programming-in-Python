{
 "cells": [
  {
   "cell_type": "code",
   "execution_count": 1,
   "id": "8e550eda",
   "metadata": {},
   "outputs": [
    {
     "name": "stdout",
     "output_type": "stream",
     "text": [
      "    cars  passings\n",
      "0    BMW         3\n",
      "1  Volvo         7\n",
      "2   Ford         2\n"
     ]
    }
   ],
   "source": [
    "import pandas as pd\n",
    "\n",
    "mydataset1 = {\n",
    "  'cars': [\"BMW\", \"Volvo\", \"Ford\"],\n",
    "  'passings': [3, 7, 2]\n",
    "}\n",
    "\n",
    "myvar1 = pd.DataFrame(mydataset1)\n",
    "\n",
    "print(myvar1)"
   ]
  },
  {
   "cell_type": "code",
   "execution_count": 3,
   "id": "dcb00241",
   "metadata": {},
   "outputs": [
    {
     "name": "stdout",
     "output_type": "stream",
     "text": [
      "  flowers  colour\n",
      "0    Rose     Red\n",
      "1  Dahlia    Pink\n",
      "2  Orchid   White\n",
      "3    Lily  Yellow\n",
      "4    Iris  Violet\n"
     ]
    }
   ],
   "source": [
    "mydataset2={\n",
    "    'flowers':[\"Rose\",\"Dahlia\",\"Orchid\",\"Lily\",\"Iris\"],\n",
    "    'colour':[\"Red\",\"Pink\",\"White\",\"Yellow\",\"Violet\"]\n",
    "}\n",
    "myvar2 = pd.DataFrame(mydataset2)\n",
    "\n",
    "print(myvar2)"
   ]
  },
  {
   "cell_type": "code",
   "execution_count": 4,
   "id": "6f046fb7",
   "metadata": {},
   "outputs": [
    {
     "name": "stdout",
     "output_type": "stream",
     "text": [
      "0    1\n",
      "1    7\n",
      "2    2\n",
      "dtype: int64\n"
     ]
    }
   ],
   "source": [
    "import pandas as pd\n",
    "\n",
    "a = [1, 7, 2]\n",
    "\n",
    "myvar = pd.Series(a)\n",
    "\n",
    "print(myvar)"
   ]
  },
  {
   "cell_type": "code",
   "execution_count": 8,
   "id": "b99b4bbc",
   "metadata": {},
   "outputs": [
    {
     "name": "stdout",
     "output_type": "stream",
     "text": [
      "7\n"
     ]
    }
   ],
   "source": [
    "import pandas as pd\n",
    "\n",
    "a = [1, 7, 2]\n",
    "\n",
    "myvar = pd.Series(a, index = [\"x\", \"y\", \"z\"])\n",
    "\n",
    "print(myvar[a[0]])"
   ]
  },
  {
   "cell_type": "code",
   "execution_count": 9,
   "id": "27b73f25",
   "metadata": {},
   "outputs": [
    {
     "name": "stdout",
     "output_type": "stream",
     "text": [
      "day1    420\n",
      "day2    380\n",
      "day3    390\n",
      "dtype: int64\n"
     ]
    }
   ],
   "source": [
    "import pandas as pd\n",
    "\n",
    "calories = {\"day1\": 420, \"day2\": 380, \"day3\": 390}\n",
    "\n",
    "myvar = pd.Series(calories)\n",
    "\n",
    "print(myvar)"
   ]
  },
  {
   "cell_type": "code",
   "execution_count": 15,
   "id": "b3ab5246",
   "metadata": {},
   "outputs": [
    {
     "name": "stdout",
     "output_type": "stream",
     "text": [
      "   calories  duration\n",
      "0       420        50\n",
      "1       380        40\n"
     ]
    }
   ],
   "source": [
    "import pandas as pd\n",
    "\n",
    "data = {\n",
    "  \"calories\": [420, 380, 390],\n",
    "  \"duration\": [50, 40, 45]\n",
    "}\n",
    "\n",
    "myvar = pd.DataFrame(data)\n",
    "\n",
    "print(myvar.loc[[0,1]])"
   ]
  },
  {
   "cell_type": "code",
   "execution_count": 17,
   "id": "f92d3c26",
   "metadata": {},
   "outputs": [
    {
     "name": "stdout",
     "output_type": "stream",
     "text": [
      "      calories  duration\n",
      "day3       390        45\n"
     ]
    }
   ],
   "source": [
    "import pandas as pd\n",
    "\n",
    "data = {\n",
    "  \"calories\": [420, 380, 390],\n",
    "  \"duration\": [50, 40, 45]\n",
    "}\n",
    "\n",
    "df = pd.DataFrame(data, index = [\"day1\", \"day2\", \"day3\"])\n",
    "\n",
    "print(df.loc[[\"day3\"]])"
   ]
  },
  {
   "cell_type": "code",
   "execution_count": 19,
   "id": "bbb735c5",
   "metadata": {},
   "outputs": [
    {
     "name": "stdout",
     "output_type": "stream",
     "text": [
      "       #                   Name   Type 1  Type 2  Total  HP  Attack  Defense  \\\n",
      "0      1              Bulbasaur    Grass  Poison    318  45      49       49   \n",
      "1      2                Ivysaur    Grass  Poison    405  60      62       63   \n",
      "2      3               Venusaur    Grass  Poison    525  80      82       83   \n",
      "3      3  VenusaurMega Venusaur    Grass  Poison    625  80     100      123   \n",
      "4      4             Charmander     Fire     NaN    309  39      52       43   \n",
      "..   ...                    ...      ...     ...    ...  ..     ...      ...   \n",
      "795  719                Diancie     Rock   Fairy    600  50     100      150   \n",
      "796  719    DiancieMega Diancie     Rock   Fairy    700  50     160      110   \n",
      "797  720    HoopaHoopa Confined  Psychic   Ghost    600  80     110       60   \n",
      "798  720     HoopaHoopa Unbound  Psychic    Dark    680  80     160       60   \n",
      "799  721              Volcanion     Fire   Water    600  80     110      120   \n",
      "\n",
      "     Sp. Atk  Sp. Def  Speed  Generation  Legendary  \n",
      "0         65       65     45           1      False  \n",
      "1         80       80     60           1      False  \n",
      "2        100      100     80           1      False  \n",
      "3        122      120     80           1      False  \n",
      "4         60       50     65           1      False  \n",
      "..       ...      ...    ...         ...        ...  \n",
      "795      100      150     50           6       True  \n",
      "796      160      110    110           6       True  \n",
      "797      150      130     70           6       True  \n",
      "798      170      130     80           6       True  \n",
      "799      130       90     70           6       True  \n",
      "\n",
      "[800 rows x 13 columns]\n"
     ]
    }
   ],
   "source": [
    "import pandas as pd\n",
    "\n",
    "df = pd.read_csv('C:\\\\Users\\\\halde\\OneDrive\\\\Desktop\\\\pokemon.csv')\n",
    "\n",
    "print(df)"
   ]
  },
  {
   "cell_type": "code",
   "execution_count": 2,
   "id": "14425e33",
   "metadata": {},
   "outputs": [
    {
     "name": "stdout",
     "output_type": "stream",
     "text": [
      "    Employee ID  First Name Last Name  Gender  Age Department  \\\n",
      "0            101       John   Johnson    Male   30  Marketing   \n",
      "1            102      Emily     Smith  Female   28      Sales   \n",
      "2            103    Micheal     Davis    Male   35         IT   \n",
      "3            104      Sarah    Wilson  Female   32         HR   \n",
      "4            105      David     Brown    Male   40    Finance   \n",
      "5            106       Lisa    Miller  Female   26  Marketing   \n",
      "6            107      James       Lee    Male   29      Sales   \n",
      "7            108       Lisa  Anderson  Female   33         IT   \n",
      "8            109    Micheal    Taylor    Male   27         HR   \n",
      "9            110     Olivia    Wilson  Female   31    Finance   \n",
      "10           111     Robert    Harris    Male   34  Marketing   \n",
      "11           112      Sarah    Miller  Female   25      Sales   \n",
      "12           113      David       Lee    Male   28         IT   \n",
      "13           114        Mia     Clark  Female   30         HR   \n",
      "14           115    William  Anderson    Male   38    Finance   \n",
      "15           116        Ava     Lewis  Female   27  Marketing   \n",
      "16           117   Benjamin     Moore    Male   32      Sales   \n",
      "17           118    Charlie   Johnson    Male   29         IT   \n",
      "18           119      Grace     Smith    Male   26         HR   \n",
      "19           120       Mike     Davis    Male   35    Finance   \n",
      "\n",
      "                    Position   Salary  \n",
      "0         Marketing  Manager   750000  \n",
      "1       Sales Representative   500000  \n",
      "2             System Analyst   800000  \n",
      "3                 HR Manager   700000  \n",
      "4          Financial Analyst   850000  \n",
      "5      Marketing Coordinator   450000  \n",
      "6              Sales Manager   900000  \n",
      "7          Software Engineer   750000  \n",
      "8              HR Specialist  5500000  \n",
      "9          Senior Accountant   780000  \n",
      "10          Graphic Designer   600000  \n",
      "11           Sales Associate   480000  \n",
      "12          Network Engineer   800000  \n",
      "13              HR Assistant   420000  \n",
      "14         Financial Manager   950000  \n",
      "15         Marketing Analyst   520000  \n",
      "16          Sales Supervisor  6500000  \n",
      "17           Software Tester  8200000  \n",
      "18            HR Coordinator   500000  \n",
      "19  Senior Financial Analyst   880000  \n"
     ]
    }
   ],
   "source": [
    "\n",
    "import pandas as pd\n",
    "\n",
    "df = pd.read_csv('C:\\\\Users\\\\halde\\\\OneDrive\\\\Documents\\\\Employee Information.csv')\n",
    "\n",
    "print(df)"
   ]
  },
  {
   "cell_type": "code",
   "execution_count": 8,
   "id": "dc6ed40c",
   "metadata": {},
   "outputs": [
    {
     "name": "stdout",
     "output_type": "stream",
     "text": [
      "<class 'pandas.core.frame.DataFrame'>\n",
      "RangeIndex: 20 entries, 0 to 19\n",
      "Data columns (total 8 columns):\n",
      " #   Column        Non-Null Count  Dtype \n",
      "---  ------        --------------  ----- \n",
      " 0   Employee ID   20 non-null     int64 \n",
      " 1   First Name    20 non-null     object\n",
      " 2   Last Name     20 non-null     object\n",
      " 3   Gender        20 non-null     object\n",
      " 4   Age           20 non-null     int64 \n",
      " 5   Department    20 non-null     object\n",
      " 6   Position      20 non-null     object\n",
      " 7   Salary        20 non-null     int64 \n",
      "dtypes: int64(3), object(5)\n",
      "memory usage: 1.4+ KB\n",
      "None\n"
     ]
    }
   ],
   "source": [
    "print(df.info())"
   ]
  },
  {
   "cell_type": "code",
   "execution_count": 10,
   "id": "8e95e804",
   "metadata": {},
   "outputs": [
    {
     "name": "stdout",
     "output_type": "stream",
     "text": [
      "    Employee ID  First Name Last Name  Gender  Age Department  \\\n",
      "0            101       John   Johnson    Male   30  Marketing   \n",
      "1            102      Emily     Smith  Female   28      Sales   \n",
      "2            103    Micheal     Davis    Male   35         IT   \n",
      "3            104      Sarah    Wilson  Female   32         HR   \n",
      "4            105      David     Brown    Male   40    Finance   \n",
      "5            106       Lisa    Miller  Female   26  Marketing   \n",
      "6            107      James       Lee    Male   29      Sales   \n",
      "7            108       Lisa  Anderson  Female   33         IT   \n",
      "8            109    Micheal    Taylor    Male   27         HR   \n",
      "9            110     Olivia    Wilson  Female   31    Finance   \n",
      "10           111     Robert    Harris    Male   34  Marketing   \n",
      "11           112      Sarah    Miller  Female   25      Sales   \n",
      "12           113      David       Lee    Male   28         IT   \n",
      "13           114        Mia     Clark  Female   30         HR   \n",
      "14           115    William  Anderson    Male   38    Finance   \n",
      "15           116        Ava     Lewis  Female   27  Marketing   \n",
      "16           117   Benjamin     Moore    Male   32      Sales   \n",
      "17           118    Charlie   Johnson    Male   29         IT   \n",
      "18           119      Grace     Smith    Male   26         HR   \n",
      "19           120       Mike     Davis    Male   35    Finance   \n",
      "\n",
      "                    Position   Salary  \n",
      "0         Marketing  Manager   750000  \n",
      "1       Sales Representative   500000  \n",
      "2             System Analyst   800000  \n",
      "3                 HR Manager   700000  \n",
      "4          Financial Analyst   850000  \n",
      "5      Marketing Coordinator   450000  \n",
      "6              Sales Manager   900000  \n",
      "7          Software Engineer   750000  \n",
      "8              HR Specialist  5500000  \n",
      "9          Senior Accountant   780000  \n",
      "10          Graphic Designer   600000  \n",
      "11           Sales Associate   480000  \n",
      "12          Network Engineer   800000  \n",
      "13              HR Assistant   420000  \n",
      "14         Financial Manager   950000  \n",
      "15         Marketing Analyst   520000  \n",
      "16          Sales Supervisor  6500000  \n",
      "17           Software Tester  8200000  \n",
      "18            HR Coordinator   500000  \n",
      "19  Senior Financial Analyst   880000  \n"
     ]
    }
   ],
   "source": [
    "new_df = df.dropna()\n",
    "\n",
    "print(new_df)"
   ]
  },
  {
   "cell_type": "code",
   "execution_count": null,
   "id": "16d59f17",
   "metadata": {},
   "outputs": [],
   "source": []
  }
 ],
 "metadata": {
  "kernelspec": {
   "display_name": "Python 3 (ipykernel)",
   "language": "python",
   "name": "python3"
  },
  "language_info": {
   "codemirror_mode": {
    "name": "ipython",
    "version": 3
   },
   "file_extension": ".py",
   "mimetype": "text/x-python",
   "name": "python",
   "nbconvert_exporter": "python",
   "pygments_lexer": "ipython3",
   "version": "3.9.13"
  }
 },
 "nbformat": 4,
 "nbformat_minor": 5
}
