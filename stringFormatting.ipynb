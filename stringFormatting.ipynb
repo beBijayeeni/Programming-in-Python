{
 "cells": [
  {
   "cell_type": "code",
   "execution_count": 2,
   "id": "f821090a-a5ba-4218-9f02-f89bfb3e8078",
   "metadata": {},
   "outputs": [
    {
     "name": "stdout",
     "output_type": "stream",
     "text": [
      "helloworld\n",
      "hello world\n"
     ]
    }
   ],
   "source": [
    "a=\"hello\"\n",
    "b=\"world\"\n",
    "c=a+b\n",
    "d=a+\" \"+b\n",
    "print(c)\n",
    "print(d)"
   ]
  },
  {
   "cell_type": "code",
   "execution_count": 4,
   "id": "040e4ef6-de7c-4d96-b613-7471ebdfaf54",
   "metadata": {},
   "outputs": [
    {
     "name": "stdout",
     "output_type": "stream",
     "text": [
      "My age is 21\n"
     ]
    }
   ],
   "source": [
    "age=21\n",
    "txt=\"My age is \"+str(age)\n",
    "print(txt)"
   ]
  },
  {
   "cell_type": "code",
   "execution_count": 5,
   "id": "c2cb45c5-84be-4d58-92b8-204713a33dd3",
   "metadata": {},
   "outputs": [
    {
     "name": "stdout",
     "output_type": "stream",
     "text": [
      "My age is 21\n"
     ]
    }
   ],
   "source": [
    "age=21\n",
    "txt=\"My age is {}\"\n",
    "print(txt.format(age))"
   ]
  },
  {
   "cell_type": "code",
   "execution_count": 6,
   "id": "89ff1672-7740-4062-befe-3e724ff852b5",
   "metadata": {},
   "outputs": [
    {
     "name": "stdout",
     "output_type": "stream",
     "text": [
      "I want 7 pieces of item having code no. I-527 for 8999.98 dollars.\n"
     ]
    }
   ],
   "source": [
    "quantity=7\n",
    "item_code='I-527'\n",
    "price=8999.98\n",
    "myOrder=\"I want {} pieces of item having code no. {} for {} dollars.\"\n",
    "print(myOrder.format(quantity,item_code,price))"
   ]
  },
  {
   "cell_type": "code",
   "execution_count": null,
   "id": "02d1f968-a2fb-45b3-bc92-e92cb0b3e439",
   "metadata": {},
   "outputs": [],
   "source": []
  }
 ],
 "metadata": {
  "kernelspec": {
   "display_name": "Python 3 (ipykernel)",
   "language": "python",
   "name": "python3"
  },
  "language_info": {
   "codemirror_mode": {
    "name": "ipython",
    "version": 3
   },
   "file_extension": ".py",
   "mimetype": "text/x-python",
   "name": "python",
   "nbconvert_exporter": "python",
   "pygments_lexer": "ipython3",
   "version": "3.12.4"
  }
 },
 "nbformat": 4,
 "nbformat_minor": 5
}
