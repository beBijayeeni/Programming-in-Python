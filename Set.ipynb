{
 "cells": [
  {
   "cell_type": "code",
   "execution_count": 1,
   "id": "40cb4d35-f8fb-48cb-823e-fc113e125e02",
   "metadata": {},
   "outputs": [
    {
     "name": "stdout",
     "output_type": "stream",
     "text": [
      "{1, 2, 3, 4, 5, 6, 7}\n"
     ]
    }
   ],
   "source": [
    "x={1,2,3,4,5,6,7}\n",
    "print(x)"
   ]
  },
  {
   "cell_type": "code",
   "execution_count": 5,
   "id": "c875b007-14b7-49e9-9038-467ce29b16e6",
   "metadata": {},
   "outputs": [
    {
     "name": "stdout",
     "output_type": "stream",
     "text": [
      "{'Ram', 'Shyam'}\n",
      "<class 'set'>\n"
     ]
    }
   ],
   "source": [
    "names={'Ram','Shyam',\"Ram\"}\n",
    "print(names)\n",
    "print(type(names))"
   ]
  },
  {
   "cell_type": "code",
   "execution_count": 8,
   "id": "b84ceea9-826b-4f52-a4bb-3574a28b5e11",
   "metadata": {},
   "outputs": [
    {
     "name": "stdout",
     "output_type": "stream",
     "text": [
      "{1, 2, 3, 4, 5, 6, 7}\n",
      "2\n"
     ]
    }
   ],
   "source": [
    "x={1,2,3,4,5,6,7}\n",
    "print(x)\n",
    "k=0\n",
    "for i in x:\n",
    "    k+=1\n",
    "    if (k==2):\n",
    "        print(i)"
   ]
  },
  {
   "cell_type": "code",
   "execution_count": 11,
   "id": "314316ed-77c3-4731-87d2-17b0d8a1911f",
   "metadata": {},
   "outputs": [
    {
     "name": "stdout",
     "output_type": "stream",
     "text": [
      "{1, 2, 3, 4, 5, 6, 78}\n"
     ]
    }
   ],
   "source": [
    "list=[1,2,2,3,4,5,6,78]\n",
    "myset=set(list)\n",
    "print(myset)"
   ]
  },
  {
   "cell_type": "code",
   "execution_count": 15,
   "id": "9022e7d4-2fa9-46d0-b747-9e315a0f91be",
   "metadata": {},
   "outputs": [
    {
     "name": "stdin",
     "output_type": "stream",
     "text": [
      "Enter numbers: 1\n",
      "Enter numbers: 2\n",
      "Enter numbers: 3\n",
      "Enter numbers: 4\n",
      "Enter numbers: 5\n",
      "Enter numbers: 6\n",
      "Enter numbers: 7\n",
      "Enter numbers: 7\n",
      "Enter numbers: 8\n",
      "Enter numbers: 8\n"
     ]
    },
    {
     "name": "stdout",
     "output_type": "stream",
     "text": [
      "{1, 2, 3, 4, 5, 6, 7, 8}\n"
     ]
    }
   ],
   "source": [
    "myset=set()\n",
    "for i in range (10):\n",
    "    n=int(input('Enter numbers:'))\n",
    "    myset.add(n)\n",
    "print(myset)"
   ]
  },
  {
   "cell_type": "code",
   "execution_count": 19,
   "id": "ca14b4d3-fa89-408c-92e6-588f4202ddbe",
   "metadata": {},
   "outputs": [
    {
     "name": "stdout",
     "output_type": "stream",
     "text": [
      "{1, 2, 3, 4, 4.5, 6.7, 7}\n",
      "{1, 2, 3, 4, 4.5, 6.7, 7, 8, 67, 5, 78}\n",
      "set()\n",
      "set()\n"
     ]
    }
   ],
   "source": [
    "set1={1,2,3,4}\n",
    "set2={4.5,6.7,7}\n",
    "set3={78,5,67,8}\n",
    "print(set1.union(set2))\n",
    "print(set1.union(set2,set3))\n",
    "print(set1.intersection(set2))\n",
    "print(set1.intersection(set2,set3))\n"
   ]
  },
  {
   "cell_type": "code",
   "execution_count": null,
   "id": "a20766de-1f8e-43e1-b8e5-8969e714bd72",
   "metadata": {},
   "outputs": [],
   "source": []
  }
 ],
 "metadata": {
  "kernelspec": {
   "display_name": "Python 3 (ipykernel)",
   "language": "python",
   "name": "python3"
  },
  "language_info": {
   "codemirror_mode": {
    "name": "ipython",
    "version": 3
   },
   "file_extension": ".py",
   "mimetype": "text/x-python",
   "name": "python",
   "nbconvert_exporter": "python",
   "pygments_lexer": "ipython3",
   "version": "3.12.4"
  }
 },
 "nbformat": 4,
 "nbformat_minor": 5
}
