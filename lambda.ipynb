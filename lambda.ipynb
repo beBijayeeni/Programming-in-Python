{
 "cells": [
  {
   "cell_type": "code",
   "execution_count": 3,
   "id": "1e513ea4-0177-48d2-a757-9157628fd70a",
   "metadata": {},
   "outputs": [
    {
     "name": "stdout",
     "output_type": "stream",
     "text": [
      "224\n"
     ]
    }
   ],
   "source": [
    "eqn = lambda x,y,z : x**2 + 2*y + z\n",
    "print(eqn(12,23,34))\n"
   ]
  },
  {
   "cell_type": "code",
   "execution_count": 5,
   "id": "83c98f5f-b04e-4f05-ac7f-cdeb446d14a3",
   "metadata": {},
   "outputs": [
    {
     "name": "stdin",
     "output_type": "stream",
     "text": [
      "Enter the value of radius 2\n"
     ]
    },
    {
     "name": "stdout",
     "output_type": "stream",
     "text": [
      "12.56\n"
     ]
    }
   ],
   "source": [
    "triangle = lambda b,h : 1//2*b*h\n",
    "circle = lambda r : 3.14*r*r\n",
    "b = int(input('Enter breadth'))\n",
    "h= int(input('Enter height'))\n",
    "print(triangle(b,h))\n",
    "r = int(input('Enter the value of radius'))\n",
    "print(circle(r))"
   ]
  },
  {
   "cell_type": "code",
   "execution_count": null,
   "id": "32133c66-c4ef-4c80-853c-ed9331fdc1fb",
   "metadata": {},
   "outputs": [],
   "source": []
  }
 ],
 "metadata": {
  "kernelspec": {
   "display_name": "Python 3 (ipykernel)",
   "language": "python",
   "name": "python3"
  },
  "language_info": {
   "codemirror_mode": {
    "name": "ipython",
    "version": 3
   },
   "file_extension": ".py",
   "mimetype": "text/x-python",
   "name": "python",
   "nbconvert_exporter": "python",
   "pygments_lexer": "ipython3",
   "version": "3.12.4"
  }
 },
 "nbformat": 4,
 "nbformat_minor": 5
}
