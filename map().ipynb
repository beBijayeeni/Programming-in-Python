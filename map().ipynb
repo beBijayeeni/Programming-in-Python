{
 "cells": [
  {
   "cell_type": "code",
   "execution_count": 2,
   "id": "9152d75a-a5a7-4afb-9bf5-410731659658",
   "metadata": {
    "jp-MarkdownHeadingCollapsed": true
   },
   "outputs": [
    {
     "name": "stdin",
     "output_type": "stream",
     "text": [
      "Enter 4 numbers 1 2 3 4\n"
     ]
    },
    {
     "name": "stdout",
     "output_type": "stream",
     "text": [
      "[1, 4, 9, 16]\n"
     ]
    }
   ],
   "source": [
    "def square(n):\n",
    "    return n*n\n",
    "n1,n2,n3,n4 = map(int , input('Enter 4 numbers').split())\n",
    "num=(n1,n2,n3,n4)\n",
    "result  = map (square,num)\n",
    "print(list(result))"
   ]
  },
  {
   "cell_type": "code",
   "execution_count": 6,
   "id": "2151ea7a-9061-4141-a8b1-a083a4208a6c",
   "metadata": {},
   "outputs": [
    {
     "name": "stdin",
     "output_type": "stream",
     "text": [
      "Enter 4 numbers 1 2 3 4\n"
     ]
    },
    {
     "name": "stdout",
     "output_type": "stream",
     "text": [
      "[4, 6]\n"
     ]
    }
   ],
   "source": [
    "n1,n2,n3,n4 = map(int , input('Enter 4 numbers').split())\n",
    "num=[n1,n2]\n",
    "num2=[n3,n4]\n",
    "result  = map (lambda x,y : x+y,num,num2)\n",
    "print(list(result))"
   ]
  },
  {
   "cell_type": "code",
   "execution_count": 7,
   "id": "304fa1d5-19d1-4c0d-8212-59c338912d54",
   "metadata": {},
   "outputs": [
    {
     "name": "stdout",
     "output_type": "stream",
     "text": [
      "[['m', 'a', 'g', 'g', 'i', 'e'], ['b', 'i', 'r', 'i', 'y', 'a', 'n', 'i'], ['m', 'o', 'm', 'o', 's']]\n"
     ]
    }
   ],
   "source": [
    "lst = ['maggie', 'biriyani', 'momos']\n",
    "test = list(map(list, lst))\n",
    "print(test)"
   ]
  },
  {
   "cell_type": "code",
   "execution_count": null,
   "id": "5b00e428-a845-40d6-adb6-9a73004464b4",
   "metadata": {},
   "outputs": [],
   "source": []
  }
 ],
 "metadata": {
  "kernelspec": {
   "display_name": "Python 3 (ipykernel)",
   "language": "python",
   "name": "python3"
  },
  "language_info": {
   "codemirror_mode": {
    "name": "ipython",
    "version": 3
   },
   "file_extension": ".py",
   "mimetype": "text/x-python",
   "name": "python",
   "nbconvert_exporter": "python",
   "pygments_lexer": "ipython3",
   "version": "3.12.4"
  }
 },
 "nbformat": 4,
 "nbformat_minor": 5
}
