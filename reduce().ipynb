{
 "cells": [
  {
   "cell_type": "code",
   "execution_count": 5,
   "id": "29977f6d-fd0e-4099-9f7c-a4bbd4ca5e8a",
   "metadata": {},
   "outputs": [
    {
     "name": "stdout",
     "output_type": "stream",
     "text": [
      "The sum of elements is:15\n",
      "The max elements is:5\n"
     ]
    }
   ],
   "source": [
    "import functools\n",
    "list = [1,2,3,4,5]\n",
    "print('The sum of elements is:',end=\"\")\n",
    "print(functools.reduce(lambda a,b : a+b,list))\n",
    "print('The max elements is:',end=\"\")\n",
    "print(functools.reduce(lambda a,b : a if a>b else b,list))"
   ]
  },
  {
   "cell_type": "code",
   "execution_count": 8,
   "id": "773dd6cd-927c-4c32-87cd-0504f375aeb8",
   "metadata": {},
   "outputs": [
    {
     "name": "stdout",
     "output_type": "stream",
     "text": [
      "The sum of elements is: 15\n",
      "The product of elements is: 120\n"
     ]
    }
   ],
   "source": [
    "import operator\n",
    "list = [1,2,3,4,5]\n",
    "print('The sum of elements is: ',end=\"\")\n",
    "print(functools.reduce(operator.add,list))\n",
    "print('The product of elements is: ',end=\"\")\n",
    "print(functools.reduce(operator.mul,list))"
   ]
  },
  {
   "cell_type": "code",
   "execution_count": 9,
   "id": "5377c405-a0c3-493f-a857-e3b580be489a",
   "metadata": {},
   "outputs": [
    {
     "name": "stdout",
     "output_type": "stream",
     "text": [
      "23\n"
     ]
    }
   ],
   "source": [
    "t = (2,3,0,0,5,6)\n",
    "print(functools.reduce(lambda x,y : x+y, t, 7))"
   ]
  },
  {
   "cell_type": "code",
   "execution_count": null,
   "id": "add4453b-8c92-42b3-98df-c26f28f9631d",
   "metadata": {},
   "outputs": [],
   "source": []
  }
 ],
 "metadata": {
  "kernelspec": {
   "display_name": "Python 3 (ipykernel)",
   "language": "python",
   "name": "python3"
  },
  "language_info": {
   "codemirror_mode": {
    "name": "ipython",
    "version": 3
   },
   "file_extension": ".py",
   "mimetype": "text/x-python",
   "name": "python",
   "nbconvert_exporter": "python",
   "pygments_lexer": "ipython3",
   "version": "3.12.4"
  }
 },
 "nbformat": 4,
 "nbformat_minor": 5
}
