{
 "cells": [
  {
   "cell_type": "code",
   "execution_count": 1,
   "id": "04915af4-f618-46b8-875c-431fc6c571ef",
   "metadata": {},
   "outputs": [
    {
     "name": "stdout",
     "output_type": "stream",
     "text": [
      "1 2 3 \n",
      "\n",
      "4 5 5 \n",
      "\n"
     ]
    }
   ],
   "source": [
    "Arr=[[1,2,3],[4,5,5]]\n",
    "for i in range (2):\n",
    "    for j in range (3):\n",
    "        print(Arr[i][j],end=' ')\n",
    "    print('\\n')"
   ]
  },
  {
   "cell_type": "code",
   "execution_count": 4,
   "id": "502b101e-e778-45c9-91b8-b290d30bdf1b",
   "metadata": {},
   "outputs": [
    {
     "name": "stdout",
     "output_type": "stream",
     "text": [
      "[0, 0, 0, 0, 0, 0, 0, 0]\n",
      "[0, 0, 0, 0, 0, 0, 0, 0]\n",
      "[0, 0, 0, 0, 0, 0, 0, 0]\n",
      "[0, 0, 0, 0, 0, 0, 0, 0]\n",
      "[0, 0, 0, 0, 0, 0, 0, 0]\n",
      "[0, 0, 0, 0, 0, 0, 0, 0]\n",
      "[0, 0, 0, 0, 0, 0, 0, 0]\n"
     ]
    }
   ],
   "source": [
    "w,h=8,7\n",
    "MYMatrix=[[0 for x in range(w)]for y in range(h)]\n",
    "for i in range (7):\n",
    "    print(MYMatrix[i])"
   ]
  },
  {
   "cell_type": "code",
   "execution_count": 6,
   "id": "c17d0aac-3863-45b3-912f-9fb6422caa3c",
   "metadata": {},
   "outputs": [
    {
     "name": "stdin",
     "output_type": "stream",
     "text": [
      "Enter the number of rows: 2\n",
      "Enter the number of columns: 2\n",
      " 3\n",
      " 4\n",
      " 5\n",
      " 6\n"
     ]
    },
    {
     "name": "stdout",
     "output_type": "stream",
     "text": [
      "3 4 [[3, 4], [5, 6]]\n",
      "5 6 [[3, 4], [5, 6]]\n",
      "\n"
     ]
    }
   ],
   "source": [
    "r=int(input('Enter the number of rows:'))\n",
    "c=int(input('Enter the number of columns:'))\n",
    "matrix=[[int(input()) for x in range(c)]for y in range(r)]\n",
    "for i in range (r):\n",
    "    for j in range(c):\n",
    "        print(matrix[i][j],end=' ')\n",
    "    print(matrix)\n",
    "print()"
   ]
  },
  {
   "cell_type": "code",
   "execution_count": null,
   "id": "ea0e072c-e7ea-4a3d-a633-66fba54544cf",
   "metadata": {},
   "outputs": [],
   "source": []
  }
 ],
 "metadata": {
  "kernelspec": {
   "display_name": "Python 3 (ipykernel)",
   "language": "python",
   "name": "python3"
  },
  "language_info": {
   "codemirror_mode": {
    "name": "ipython",
    "version": 3
   },
   "file_extension": ".py",
   "mimetype": "text/x-python",
   "name": "python",
   "nbconvert_exporter": "python",
   "pygments_lexer": "ipython3",
   "version": "3.12.4"
  }
 },
 "nbformat": 4,
 "nbformat_minor": 5
}
